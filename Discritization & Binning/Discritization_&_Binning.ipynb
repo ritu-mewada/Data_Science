{
  "nbformat": 4,
  "nbformat_minor": 0,
  "metadata": {
    "colab": {
      "name": "Discritization & Binning.ipynb",
      "provenance": [],
      "collapsed_sections": []
    },
    "kernelspec": {
      "name": "python3",
      "display_name": "Python 3"
    },
    "language_info": {
      "name": "python"
    }
  },
  "cells": [
    {
      "cell_type": "markdown",
      "source": [
        "# **Discritization & Binning Method**"
      ],
      "metadata": {
        "id": "NC0hU7CnqCLq"
      }
    },
    {
      "cell_type": "markdown",
      "source": [
        "###**Convert Nominal Attributes to Dummy Variables**"
      ],
      "metadata": {
        "id": "GVSShrWrqagU"
      }
    },
    {
      "cell_type": "markdown",
      "source": [
        "Importing required libraries"
      ],
      "metadata": {
        "id": "cS8qhj26qghq"
      }
    },
    {
      "cell_type": "code",
      "execution_count": null,
      "metadata": {
        "id": "mCtwsW8up5Uj"
      },
      "outputs": [],
      "source": [
        "import pandas as pd"
      ]
    },
    {
      "cell_type": "code",
      "source": [
        "df = pd.read_csv('weather.csv')\n",
        "df"
      ],
      "metadata": {
        "colab": {
          "base_uri": "https://localhost:8080/",
          "height": 474
        },
        "id": "wvOL1ptOrCAH",
        "outputId": "70fad6af-51d8-4ff3-8f2b-679c75587b04"
      },
      "execution_count": null,
      "outputs": [
        {
          "output_type": "execute_result",
          "data": {
            "text/html": [
              "\n",
              "  <div id=\"df-f0f88675-f126-4b20-a5f8-79828d2def2a\">\n",
              "    <div class=\"colab-df-container\">\n",
              "      <div>\n",
              "<style scoped>\n",
              "    .dataframe tbody tr th:only-of-type {\n",
              "        vertical-align: middle;\n",
              "    }\n",
              "\n",
              "    .dataframe tbody tr th {\n",
              "        vertical-align: top;\n",
              "    }\n",
              "\n",
              "    .dataframe thead th {\n",
              "        text-align: right;\n",
              "    }\n",
              "</style>\n",
              "<table border=\"1\" class=\"dataframe\">\n",
              "  <thead>\n",
              "    <tr style=\"text-align: right;\">\n",
              "      <th></th>\n",
              "      <th>outlook</th>\n",
              "      <th>temperature</th>\n",
              "      <th>humidity</th>\n",
              "      <th>windy</th>\n",
              "      <th>play</th>\n",
              "    </tr>\n",
              "  </thead>\n",
              "  <tbody>\n",
              "    <tr>\n",
              "      <th>0</th>\n",
              "      <td>sunny</td>\n",
              "      <td>85</td>\n",
              "      <td>85</td>\n",
              "      <td>False</td>\n",
              "      <td>no</td>\n",
              "    </tr>\n",
              "    <tr>\n",
              "      <th>1</th>\n",
              "      <td>sunny</td>\n",
              "      <td>80</td>\n",
              "      <td>90</td>\n",
              "      <td>True</td>\n",
              "      <td>no</td>\n",
              "    </tr>\n",
              "    <tr>\n",
              "      <th>2</th>\n",
              "      <td>overcast</td>\n",
              "      <td>83</td>\n",
              "      <td>86</td>\n",
              "      <td>False</td>\n",
              "      <td>yes</td>\n",
              "    </tr>\n",
              "    <tr>\n",
              "      <th>3</th>\n",
              "      <td>rainy</td>\n",
              "      <td>70</td>\n",
              "      <td>96</td>\n",
              "      <td>False</td>\n",
              "      <td>yes</td>\n",
              "    </tr>\n",
              "    <tr>\n",
              "      <th>4</th>\n",
              "      <td>rainy</td>\n",
              "      <td>68</td>\n",
              "      <td>80</td>\n",
              "      <td>False</td>\n",
              "      <td>yes</td>\n",
              "    </tr>\n",
              "    <tr>\n",
              "      <th>5</th>\n",
              "      <td>rainy</td>\n",
              "      <td>65</td>\n",
              "      <td>70</td>\n",
              "      <td>True</td>\n",
              "      <td>no</td>\n",
              "    </tr>\n",
              "    <tr>\n",
              "      <th>6</th>\n",
              "      <td>overcast</td>\n",
              "      <td>64</td>\n",
              "      <td>65</td>\n",
              "      <td>True</td>\n",
              "      <td>yes</td>\n",
              "    </tr>\n",
              "    <tr>\n",
              "      <th>7</th>\n",
              "      <td>sunny</td>\n",
              "      <td>72</td>\n",
              "      <td>95</td>\n",
              "      <td>False</td>\n",
              "      <td>no</td>\n",
              "    </tr>\n",
              "    <tr>\n",
              "      <th>8</th>\n",
              "      <td>sunny</td>\n",
              "      <td>69</td>\n",
              "      <td>70</td>\n",
              "      <td>False</td>\n",
              "      <td>yes</td>\n",
              "    </tr>\n",
              "    <tr>\n",
              "      <th>9</th>\n",
              "      <td>rainy</td>\n",
              "      <td>75</td>\n",
              "      <td>80</td>\n",
              "      <td>False</td>\n",
              "      <td>yes</td>\n",
              "    </tr>\n",
              "    <tr>\n",
              "      <th>10</th>\n",
              "      <td>sunny</td>\n",
              "      <td>75</td>\n",
              "      <td>70</td>\n",
              "      <td>True</td>\n",
              "      <td>yes</td>\n",
              "    </tr>\n",
              "    <tr>\n",
              "      <th>11</th>\n",
              "      <td>overcast</td>\n",
              "      <td>72</td>\n",
              "      <td>90</td>\n",
              "      <td>True</td>\n",
              "      <td>yes</td>\n",
              "    </tr>\n",
              "    <tr>\n",
              "      <th>12</th>\n",
              "      <td>overcast</td>\n",
              "      <td>81</td>\n",
              "      <td>75</td>\n",
              "      <td>False</td>\n",
              "      <td>yes</td>\n",
              "    </tr>\n",
              "    <tr>\n",
              "      <th>13</th>\n",
              "      <td>rainy</td>\n",
              "      <td>71</td>\n",
              "      <td>91</td>\n",
              "      <td>True</td>\n",
              "      <td>no</td>\n",
              "    </tr>\n",
              "  </tbody>\n",
              "</table>\n",
              "</div>\n",
              "      <button class=\"colab-df-convert\" onclick=\"convertToInteractive('df-f0f88675-f126-4b20-a5f8-79828d2def2a')\"\n",
              "              title=\"Convert this dataframe to an interactive table.\"\n",
              "              style=\"display:none;\">\n",
              "        \n",
              "  <svg xmlns=\"http://www.w3.org/2000/svg\" height=\"24px\"viewBox=\"0 0 24 24\"\n",
              "       width=\"24px\">\n",
              "    <path d=\"M0 0h24v24H0V0z\" fill=\"none\"/>\n",
              "    <path d=\"M18.56 5.44l.94 2.06.94-2.06 2.06-.94-2.06-.94-.94-2.06-.94 2.06-2.06.94zm-11 1L8.5 8.5l.94-2.06 2.06-.94-2.06-.94L8.5 2.5l-.94 2.06-2.06.94zm10 10l.94 2.06.94-2.06 2.06-.94-2.06-.94-.94-2.06-.94 2.06-2.06.94z\"/><path d=\"M17.41 7.96l-1.37-1.37c-.4-.4-.92-.59-1.43-.59-.52 0-1.04.2-1.43.59L10.3 9.45l-7.72 7.72c-.78.78-.78 2.05 0 2.83L4 21.41c.39.39.9.59 1.41.59.51 0 1.02-.2 1.41-.59l7.78-7.78 2.81-2.81c.8-.78.8-2.07 0-2.86zM5.41 20L4 18.59l7.72-7.72 1.47 1.35L5.41 20z\"/>\n",
              "  </svg>\n",
              "      </button>\n",
              "      \n",
              "  <style>\n",
              "    .colab-df-container {\n",
              "      display:flex;\n",
              "      flex-wrap:wrap;\n",
              "      gap: 12px;\n",
              "    }\n",
              "\n",
              "    .colab-df-convert {\n",
              "      background-color: #E8F0FE;\n",
              "      border: none;\n",
              "      border-radius: 50%;\n",
              "      cursor: pointer;\n",
              "      display: none;\n",
              "      fill: #1967D2;\n",
              "      height: 32px;\n",
              "      padding: 0 0 0 0;\n",
              "      width: 32px;\n",
              "    }\n",
              "\n",
              "    .colab-df-convert:hover {\n",
              "      background-color: #E2EBFA;\n",
              "      box-shadow: 0px 1px 2px rgba(60, 64, 67, 0.3), 0px 1px 3px 1px rgba(60, 64, 67, 0.15);\n",
              "      fill: #174EA6;\n",
              "    }\n",
              "\n",
              "    [theme=dark] .colab-df-convert {\n",
              "      background-color: #3B4455;\n",
              "      fill: #D2E3FC;\n",
              "    }\n",
              "\n",
              "    [theme=dark] .colab-df-convert:hover {\n",
              "      background-color: #434B5C;\n",
              "      box-shadow: 0px 1px 3px 1px rgba(0, 0, 0, 0.15);\n",
              "      filter: drop-shadow(0px 1px 2px rgba(0, 0, 0, 0.3));\n",
              "      fill: #FFFFFF;\n",
              "    }\n",
              "  </style>\n",
              "\n",
              "      <script>\n",
              "        const buttonEl =\n",
              "          document.querySelector('#df-f0f88675-f126-4b20-a5f8-79828d2def2a button.colab-df-convert');\n",
              "        buttonEl.style.display =\n",
              "          google.colab.kernel.accessAllowed ? 'block' : 'none';\n",
              "\n",
              "        async function convertToInteractive(key) {\n",
              "          const element = document.querySelector('#df-f0f88675-f126-4b20-a5f8-79828d2def2a');\n",
              "          const dataTable =\n",
              "            await google.colab.kernel.invokeFunction('convertToInteractive',\n",
              "                                                     [key], {});\n",
              "          if (!dataTable) return;\n",
              "\n",
              "          const docLinkHtml = 'Like what you see? Visit the ' +\n",
              "            '<a target=\"_blank\" href=https://colab.research.google.com/notebooks/data_table.ipynb>data table notebook</a>'\n",
              "            + ' to learn more about interactive tables.';\n",
              "          element.innerHTML = '';\n",
              "          dataTable['output_type'] = 'display_data';\n",
              "          await google.colab.output.renderOutput(dataTable, element);\n",
              "          const docLink = document.createElement('div');\n",
              "          docLink.innerHTML = docLinkHtml;\n",
              "          element.appendChild(docLink);\n",
              "        }\n",
              "      </script>\n",
              "    </div>\n",
              "  </div>\n",
              "  "
            ],
            "text/plain": [
              "     outlook  temperature  humidity  windy play\n",
              "0      sunny           85        85  False   no\n",
              "1      sunny           80        90   True   no\n",
              "2   overcast           83        86  False  yes\n",
              "3      rainy           70        96  False  yes\n",
              "4      rainy           68        80  False  yes\n",
              "5      rainy           65        70   True   no\n",
              "6   overcast           64        65   True  yes\n",
              "7      sunny           72        95  False   no\n",
              "8      sunny           69        70  False  yes\n",
              "9      rainy           75        80  False  yes\n",
              "10     sunny           75        70   True  yes\n",
              "11  overcast           72        90   True  yes\n",
              "12  overcast           81        75  False  yes\n",
              "13     rainy           71        91   True   no"
            ]
          },
          "metadata": {},
          "execution_count": 2
        }
      ]
    },
    {
      "cell_type": "markdown",
      "source": [
        "Converting windy attribute to dummy variable"
      ],
      "metadata": {
        "id": "aapB8EJ59nHz"
      }
    },
    {
      "cell_type": "code",
      "source": [
        "windy_true = []\n",
        "windy_false = []\n",
        "for val in df['windy']:\n",
        "    if val:\n",
        "        windy_true.append(1) # assigning value 1 if atmostphere is windy\n",
        "        windy_false.append(0)\n",
        "    else:\n",
        "        windy_true.append(0) # assigning value 0 if atmostphere is not windy\n",
        "        windy_false.append(1)\n",
        "print(windy_true)\n",
        "print(windy_false)"
      ],
      "metadata": {
        "colab": {
          "base_uri": "https://localhost:8080/"
        },
        "id": "omoU1KJbrTpN",
        "outputId": "7f0a8ba2-86c4-49be-e4dd-5195548f9400"
      },
      "execution_count": null,
      "outputs": [
        {
          "output_type": "stream",
          "name": "stdout",
          "text": [
            "[0, 1, 0, 0, 0, 1, 1, 0, 0, 0, 1, 1, 0, 1]\n",
            "[1, 0, 1, 1, 1, 0, 0, 1, 1, 1, 0, 0, 1, 0]\n"
          ]
        }
      ]
    },
    {
      "cell_type": "markdown",
      "source": [
        "Converting outlook attribute to dummy variable"
      ],
      "metadata": {
        "id": "3osnh5uj9wlm"
      }
    },
    {
      "cell_type": "code",
      "source": [
        "outlook_sunny = []\n",
        "outlook_overcast = []\n",
        "outlook_rainy = []\n",
        "outlook_num = []\n",
        "for val in df['outlook']:\n",
        "    if val == 'sunny':\n",
        "        outlook_sunny.append(1)\n",
        "        outlook_overcast.append(0)\n",
        "        outlook_rainy.append(0)\n",
        "        outlook_num.append(1)\n",
        "    elif val == 'overcast':\n",
        "        outlook_sunny.append(0)\n",
        "        outlook_overcast.append(1)\n",
        "        outlook_rainy.append(0)\n",
        "        outlook_num.append(2) \n",
        "    else:\n",
        "        outlook_sunny.append(0)\n",
        "        outlook_overcast.append(0)\n",
        "        outlook_rainy.append(1)\n",
        "        outlook_num.append(3)\n",
        "print(outlook_sunny)\n",
        "print(outlook_overcast)\n",
        "print(outlook_rainy)\n",
        "print(outlook_num)"
      ],
      "metadata": {
        "colab": {
          "base_uri": "https://localhost:8080/"
        },
        "id": "6FUx7zA7sULM",
        "outputId": "b4869a2e-6d2f-4591-e338-c45a209168ab"
      },
      "execution_count": null,
      "outputs": [
        {
          "output_type": "stream",
          "name": "stdout",
          "text": [
            "[1, 1, 0, 0, 0, 0, 0, 1, 1, 0, 1, 0, 0, 0]\n",
            "[0, 0, 1, 0, 0, 0, 1, 0, 0, 0, 0, 1, 1, 0]\n",
            "[0, 0, 0, 1, 1, 1, 0, 0, 0, 1, 0, 0, 0, 1]\n",
            "[1, 1, 2, 3, 3, 3, 2, 1, 1, 3, 1, 2, 2, 3]\n"
          ]
        }
      ]
    },
    {
      "cell_type": "markdown",
      "source": [
        "Converting play attribute to dummy variable"
      ],
      "metadata": {
        "id": "tBid837X90lT"
      }
    },
    {
      "cell_type": "code",
      "source": [
        "play_true = []\n",
        "play_false = []\n",
        "for val in df['play']:\n",
        "    if val == 'yes':\n",
        "        play_true.append(1)\n",
        "        play_false.append(0)\n",
        "    else:\n",
        "        play_true.append(0)\n",
        "        play_false.append(1)\n",
        "print(play_true)\n",
        "print(play_false)"
      ],
      "metadata": {
        "colab": {
          "base_uri": "https://localhost:8080/"
        },
        "id": "fJ-ljbACvLnP",
        "outputId": "191968b3-d0c7-48da-afa2-4084bd42895d"
      },
      "execution_count": null,
      "outputs": [
        {
          "output_type": "stream",
          "name": "stdout",
          "text": [
            "[0, 0, 1, 1, 1, 0, 1, 0, 1, 1, 1, 1, 1, 0]\n",
            "[1, 1, 0, 0, 0, 1, 0, 1, 0, 0, 0, 0, 0, 1]\n"
          ]
        }
      ]
    },
    {
      "cell_type": "code",
      "source": [
        "df['windy_false'] = windy_false\n",
        "df['windy_true'] = windy_true\n",
        "df['sunny'] = outlook_sunny\n",
        "df['overcast'] = outlook_overcast\n",
        "df['rainy'] = outlook_rainy\n",
        "df['outlook_num'] = outlook_num\n",
        "df['play_yes'] = play_true\n",
        "df['play_no'] = play_false"
      ],
      "metadata": {
        "id": "oEBPVCt2uXvu"
      },
      "execution_count": null,
      "outputs": []
    },
    {
      "cell_type": "code",
      "source": [
        "df = df.drop(['outlook', 'windy', 'play'], axis=1)\n",
        "df"
      ],
      "metadata": {
        "colab": {
          "base_uri": "https://localhost:8080/",
          "height": 474
        },
        "id": "aofo9NYMx3UF",
        "outputId": "a184af68-e488-463a-a3ce-6fee3a6c9dc8"
      },
      "execution_count": null,
      "outputs": [
        {
          "output_type": "execute_result",
          "data": {
            "text/html": [
              "\n",
              "  <div id=\"df-f04ab352-4b29-4791-a8f6-0e33df71b601\">\n",
              "    <div class=\"colab-df-container\">\n",
              "      <div>\n",
              "<style scoped>\n",
              "    .dataframe tbody tr th:only-of-type {\n",
              "        vertical-align: middle;\n",
              "    }\n",
              "\n",
              "    .dataframe tbody tr th {\n",
              "        vertical-align: top;\n",
              "    }\n",
              "\n",
              "    .dataframe thead th {\n",
              "        text-align: right;\n",
              "    }\n",
              "</style>\n",
              "<table border=\"1\" class=\"dataframe\">\n",
              "  <thead>\n",
              "    <tr style=\"text-align: right;\">\n",
              "      <th></th>\n",
              "      <th>temperature</th>\n",
              "      <th>humidity</th>\n",
              "      <th>windy_false</th>\n",
              "      <th>windy_true</th>\n",
              "      <th>sunny</th>\n",
              "      <th>overcast</th>\n",
              "      <th>rainy</th>\n",
              "      <th>outlook_num</th>\n",
              "      <th>play_yes</th>\n",
              "      <th>play_no</th>\n",
              "    </tr>\n",
              "  </thead>\n",
              "  <tbody>\n",
              "    <tr>\n",
              "      <th>0</th>\n",
              "      <td>85</td>\n",
              "      <td>85</td>\n",
              "      <td>1</td>\n",
              "      <td>0</td>\n",
              "      <td>1</td>\n",
              "      <td>0</td>\n",
              "      <td>0</td>\n",
              "      <td>1</td>\n",
              "      <td>0</td>\n",
              "      <td>1</td>\n",
              "    </tr>\n",
              "    <tr>\n",
              "      <th>1</th>\n",
              "      <td>80</td>\n",
              "      <td>90</td>\n",
              "      <td>0</td>\n",
              "      <td>1</td>\n",
              "      <td>1</td>\n",
              "      <td>0</td>\n",
              "      <td>0</td>\n",
              "      <td>1</td>\n",
              "      <td>0</td>\n",
              "      <td>1</td>\n",
              "    </tr>\n",
              "    <tr>\n",
              "      <th>2</th>\n",
              "      <td>83</td>\n",
              "      <td>86</td>\n",
              "      <td>1</td>\n",
              "      <td>0</td>\n",
              "      <td>0</td>\n",
              "      <td>1</td>\n",
              "      <td>0</td>\n",
              "      <td>2</td>\n",
              "      <td>1</td>\n",
              "      <td>0</td>\n",
              "    </tr>\n",
              "    <tr>\n",
              "      <th>3</th>\n",
              "      <td>70</td>\n",
              "      <td>96</td>\n",
              "      <td>1</td>\n",
              "      <td>0</td>\n",
              "      <td>0</td>\n",
              "      <td>0</td>\n",
              "      <td>1</td>\n",
              "      <td>3</td>\n",
              "      <td>1</td>\n",
              "      <td>0</td>\n",
              "    </tr>\n",
              "    <tr>\n",
              "      <th>4</th>\n",
              "      <td>68</td>\n",
              "      <td>80</td>\n",
              "      <td>1</td>\n",
              "      <td>0</td>\n",
              "      <td>0</td>\n",
              "      <td>0</td>\n",
              "      <td>1</td>\n",
              "      <td>3</td>\n",
              "      <td>1</td>\n",
              "      <td>0</td>\n",
              "    </tr>\n",
              "    <tr>\n",
              "      <th>5</th>\n",
              "      <td>65</td>\n",
              "      <td>70</td>\n",
              "      <td>0</td>\n",
              "      <td>1</td>\n",
              "      <td>0</td>\n",
              "      <td>0</td>\n",
              "      <td>1</td>\n",
              "      <td>3</td>\n",
              "      <td>0</td>\n",
              "      <td>1</td>\n",
              "    </tr>\n",
              "    <tr>\n",
              "      <th>6</th>\n",
              "      <td>64</td>\n",
              "      <td>65</td>\n",
              "      <td>0</td>\n",
              "      <td>1</td>\n",
              "      <td>0</td>\n",
              "      <td>1</td>\n",
              "      <td>0</td>\n",
              "      <td>2</td>\n",
              "      <td>1</td>\n",
              "      <td>0</td>\n",
              "    </tr>\n",
              "    <tr>\n",
              "      <th>7</th>\n",
              "      <td>72</td>\n",
              "      <td>95</td>\n",
              "      <td>1</td>\n",
              "      <td>0</td>\n",
              "      <td>1</td>\n",
              "      <td>0</td>\n",
              "      <td>0</td>\n",
              "      <td>1</td>\n",
              "      <td>0</td>\n",
              "      <td>1</td>\n",
              "    </tr>\n",
              "    <tr>\n",
              "      <th>8</th>\n",
              "      <td>69</td>\n",
              "      <td>70</td>\n",
              "      <td>1</td>\n",
              "      <td>0</td>\n",
              "      <td>1</td>\n",
              "      <td>0</td>\n",
              "      <td>0</td>\n",
              "      <td>1</td>\n",
              "      <td>1</td>\n",
              "      <td>0</td>\n",
              "    </tr>\n",
              "    <tr>\n",
              "      <th>9</th>\n",
              "      <td>75</td>\n",
              "      <td>80</td>\n",
              "      <td>1</td>\n",
              "      <td>0</td>\n",
              "      <td>0</td>\n",
              "      <td>0</td>\n",
              "      <td>1</td>\n",
              "      <td>3</td>\n",
              "      <td>1</td>\n",
              "      <td>0</td>\n",
              "    </tr>\n",
              "    <tr>\n",
              "      <th>10</th>\n",
              "      <td>75</td>\n",
              "      <td>70</td>\n",
              "      <td>0</td>\n",
              "      <td>1</td>\n",
              "      <td>1</td>\n",
              "      <td>0</td>\n",
              "      <td>0</td>\n",
              "      <td>1</td>\n",
              "      <td>1</td>\n",
              "      <td>0</td>\n",
              "    </tr>\n",
              "    <tr>\n",
              "      <th>11</th>\n",
              "      <td>72</td>\n",
              "      <td>90</td>\n",
              "      <td>0</td>\n",
              "      <td>1</td>\n",
              "      <td>0</td>\n",
              "      <td>1</td>\n",
              "      <td>0</td>\n",
              "      <td>2</td>\n",
              "      <td>1</td>\n",
              "      <td>0</td>\n",
              "    </tr>\n",
              "    <tr>\n",
              "      <th>12</th>\n",
              "      <td>81</td>\n",
              "      <td>75</td>\n",
              "      <td>1</td>\n",
              "      <td>0</td>\n",
              "      <td>0</td>\n",
              "      <td>1</td>\n",
              "      <td>0</td>\n",
              "      <td>2</td>\n",
              "      <td>1</td>\n",
              "      <td>0</td>\n",
              "    </tr>\n",
              "    <tr>\n",
              "      <th>13</th>\n",
              "      <td>71</td>\n",
              "      <td>91</td>\n",
              "      <td>0</td>\n",
              "      <td>1</td>\n",
              "      <td>0</td>\n",
              "      <td>0</td>\n",
              "      <td>1</td>\n",
              "      <td>3</td>\n",
              "      <td>0</td>\n",
              "      <td>1</td>\n",
              "    </tr>\n",
              "  </tbody>\n",
              "</table>\n",
              "</div>\n",
              "      <button class=\"colab-df-convert\" onclick=\"convertToInteractive('df-f04ab352-4b29-4791-a8f6-0e33df71b601')\"\n",
              "              title=\"Convert this dataframe to an interactive table.\"\n",
              "              style=\"display:none;\">\n",
              "        \n",
              "  <svg xmlns=\"http://www.w3.org/2000/svg\" height=\"24px\"viewBox=\"0 0 24 24\"\n",
              "       width=\"24px\">\n",
              "    <path d=\"M0 0h24v24H0V0z\" fill=\"none\"/>\n",
              "    <path d=\"M18.56 5.44l.94 2.06.94-2.06 2.06-.94-2.06-.94-.94-2.06-.94 2.06-2.06.94zm-11 1L8.5 8.5l.94-2.06 2.06-.94-2.06-.94L8.5 2.5l-.94 2.06-2.06.94zm10 10l.94 2.06.94-2.06 2.06-.94-2.06-.94-.94-2.06-.94 2.06-2.06.94z\"/><path d=\"M17.41 7.96l-1.37-1.37c-.4-.4-.92-.59-1.43-.59-.52 0-1.04.2-1.43.59L10.3 9.45l-7.72 7.72c-.78.78-.78 2.05 0 2.83L4 21.41c.39.39.9.59 1.41.59.51 0 1.02-.2 1.41-.59l7.78-7.78 2.81-2.81c.8-.78.8-2.07 0-2.86zM5.41 20L4 18.59l7.72-7.72 1.47 1.35L5.41 20z\"/>\n",
              "  </svg>\n",
              "      </button>\n",
              "      \n",
              "  <style>\n",
              "    .colab-df-container {\n",
              "      display:flex;\n",
              "      flex-wrap:wrap;\n",
              "      gap: 12px;\n",
              "    }\n",
              "\n",
              "    .colab-df-convert {\n",
              "      background-color: #E8F0FE;\n",
              "      border: none;\n",
              "      border-radius: 50%;\n",
              "      cursor: pointer;\n",
              "      display: none;\n",
              "      fill: #1967D2;\n",
              "      height: 32px;\n",
              "      padding: 0 0 0 0;\n",
              "      width: 32px;\n",
              "    }\n",
              "\n",
              "    .colab-df-convert:hover {\n",
              "      background-color: #E2EBFA;\n",
              "      box-shadow: 0px 1px 2px rgba(60, 64, 67, 0.3), 0px 1px 3px 1px rgba(60, 64, 67, 0.15);\n",
              "      fill: #174EA6;\n",
              "    }\n",
              "\n",
              "    [theme=dark] .colab-df-convert {\n",
              "      background-color: #3B4455;\n",
              "      fill: #D2E3FC;\n",
              "    }\n",
              "\n",
              "    [theme=dark] .colab-df-convert:hover {\n",
              "      background-color: #434B5C;\n",
              "      box-shadow: 0px 1px 3px 1px rgba(0, 0, 0, 0.15);\n",
              "      filter: drop-shadow(0px 1px 2px rgba(0, 0, 0, 0.3));\n",
              "      fill: #FFFFFF;\n",
              "    }\n",
              "  </style>\n",
              "\n",
              "      <script>\n",
              "        const buttonEl =\n",
              "          document.querySelector('#df-f04ab352-4b29-4791-a8f6-0e33df71b601 button.colab-df-convert');\n",
              "        buttonEl.style.display =\n",
              "          google.colab.kernel.accessAllowed ? 'block' : 'none';\n",
              "\n",
              "        async function convertToInteractive(key) {\n",
              "          const element = document.querySelector('#df-f04ab352-4b29-4791-a8f6-0e33df71b601');\n",
              "          const dataTable =\n",
              "            await google.colab.kernel.invokeFunction('convertToInteractive',\n",
              "                                                     [key], {});\n",
              "          if (!dataTable) return;\n",
              "\n",
              "          const docLinkHtml = 'Like what you see? Visit the ' +\n",
              "            '<a target=\"_blank\" href=https://colab.research.google.com/notebooks/data_table.ipynb>data table notebook</a>'\n",
              "            + ' to learn more about interactive tables.';\n",
              "          element.innerHTML = '';\n",
              "          dataTable['output_type'] = 'display_data';\n",
              "          await google.colab.output.renderOutput(dataTable, element);\n",
              "          const docLink = document.createElement('div');\n",
              "          docLink.innerHTML = docLinkHtml;\n",
              "          element.appendChild(docLink);\n",
              "        }\n",
              "      </script>\n",
              "    </div>\n",
              "  </div>\n",
              "  "
            ],
            "text/plain": [
              "    temperature  humidity  windy_false  ...  outlook_num  play_yes  play_no\n",
              "0            85        85            1  ...            1         0        1\n",
              "1            80        90            0  ...            1         0        1\n",
              "2            83        86            1  ...            2         1        0\n",
              "3            70        96            1  ...            3         1        0\n",
              "4            68        80            1  ...            3         1        0\n",
              "5            65        70            0  ...            3         0        1\n",
              "6            64        65            0  ...            2         1        0\n",
              "7            72        95            1  ...            1         0        1\n",
              "8            69        70            1  ...            1         1        0\n",
              "9            75        80            1  ...            3         1        0\n",
              "10           75        70            0  ...            1         1        0\n",
              "11           72        90            0  ...            2         1        0\n",
              "12           81        75            1  ...            2         1        0\n",
              "13           71        91            0  ...            3         0        1\n",
              "\n",
              "[14 rows x 10 columns]"
            ]
          },
          "metadata": {},
          "execution_count": 7
        }
      ]
    },
    {
      "cell_type": "code",
      "source": [
        "df.info()"
      ],
      "metadata": {
        "colab": {
          "base_uri": "https://localhost:8080/"
        },
        "id": "JntQ4bzOvBkR",
        "outputId": "7d077113-2e15-46e9-948d-4ff13b7e2e6a"
      },
      "execution_count": null,
      "outputs": [
        {
          "output_type": "stream",
          "name": "stdout",
          "text": [
            "<class 'pandas.core.frame.DataFrame'>\n",
            "RangeIndex: 14 entries, 0 to 13\n",
            "Data columns (total 10 columns):\n",
            " #   Column       Non-Null Count  Dtype\n",
            "---  ------       --------------  -----\n",
            " 0   temperature  14 non-null     int64\n",
            " 1   humidity     14 non-null     int64\n",
            " 2   windy_false  14 non-null     int64\n",
            " 3   windy_true   14 non-null     int64\n",
            " 4   sunny        14 non-null     int64\n",
            " 5   overcast     14 non-null     int64\n",
            " 6   rainy        14 non-null     int64\n",
            " 7   outlook_num  14 non-null     int64\n",
            " 8   play_yes     14 non-null     int64\n",
            " 9   play_no      14 non-null     int64\n",
            "dtypes: int64(10)\n",
            "memory usage: 1.2 KB\n"
          ]
        }
      ]
    },
    {
      "cell_type": "markdown",
      "source": [
        "###**Binning Method**"
      ],
      "metadata": {
        "id": "G2gWsHohw-XB"
      }
    },
    {
      "cell_type": "code",
      "source": [
        "import numpy as np"
      ],
      "metadata": {
        "id": "DHsyeRQ2zdBs"
      },
      "execution_count": null,
      "outputs": []
    },
    {
      "cell_type": "code",
      "source": [
        "df1 = pd.read_csv('diabetes.csv')\n",
        "df1.info()"
      ],
      "metadata": {
        "colab": {
          "base_uri": "https://localhost:8080/"
        },
        "id": "v5KdNYBzxHTe",
        "outputId": "9f42f5c0-8638-4a83-f338-10ac4c993b32"
      },
      "execution_count": null,
      "outputs": [
        {
          "output_type": "stream",
          "name": "stdout",
          "text": [
            "<class 'pandas.core.frame.DataFrame'>\n",
            "RangeIndex: 768 entries, 0 to 767\n",
            "Data columns (total 9 columns):\n",
            " #   Column  Non-Null Count  Dtype  \n",
            "---  ------  --------------  -----  \n",
            " 0   preg    768 non-null    int64  \n",
            " 1   plas    768 non-null    int64  \n",
            " 2   pres    768 non-null    int64  \n",
            " 3   skin    768 non-null    int64  \n",
            " 4   insu    768 non-null    int64  \n",
            " 5   mass    768 non-null    float64\n",
            " 6   pedi    768 non-null    float64\n",
            " 7   age     768 non-null    int64  \n",
            " 8   class   768 non-null    object \n",
            "dtypes: float64(2), int64(6), object(1)\n",
            "memory usage: 54.1+ KB\n"
          ]
        }
      ]
    },
    {
      "cell_type": "code",
      "source": [
        "df1.head()"
      ],
      "metadata": {
        "colab": {
          "base_uri": "https://localhost:8080/",
          "height": 206
        },
        "id": "xXf0spYZy8pL",
        "outputId": "0d084c9a-bf28-43b0-e9bd-d82ed0e6ef65"
      },
      "execution_count": null,
      "outputs": [
        {
          "output_type": "execute_result",
          "data": {
            "text/html": [
              "\n",
              "  <div id=\"df-2cbb58f4-a538-4d93-9bb3-56acb37d694c\">\n",
              "    <div class=\"colab-df-container\">\n",
              "      <div>\n",
              "<style scoped>\n",
              "    .dataframe tbody tr th:only-of-type {\n",
              "        vertical-align: middle;\n",
              "    }\n",
              "\n",
              "    .dataframe tbody tr th {\n",
              "        vertical-align: top;\n",
              "    }\n",
              "\n",
              "    .dataframe thead th {\n",
              "        text-align: right;\n",
              "    }\n",
              "</style>\n",
              "<table border=\"1\" class=\"dataframe\">\n",
              "  <thead>\n",
              "    <tr style=\"text-align: right;\">\n",
              "      <th></th>\n",
              "      <th>preg</th>\n",
              "      <th>plas</th>\n",
              "      <th>pres</th>\n",
              "      <th>skin</th>\n",
              "      <th>insu</th>\n",
              "      <th>mass</th>\n",
              "      <th>pedi</th>\n",
              "      <th>age</th>\n",
              "      <th>class</th>\n",
              "    </tr>\n",
              "  </thead>\n",
              "  <tbody>\n",
              "    <tr>\n",
              "      <th>0</th>\n",
              "      <td>6</td>\n",
              "      <td>148</td>\n",
              "      <td>72</td>\n",
              "      <td>35</td>\n",
              "      <td>0</td>\n",
              "      <td>33.6</td>\n",
              "      <td>0.627</td>\n",
              "      <td>50</td>\n",
              "      <td>tested_positive</td>\n",
              "    </tr>\n",
              "    <tr>\n",
              "      <th>1</th>\n",
              "      <td>1</td>\n",
              "      <td>85</td>\n",
              "      <td>66</td>\n",
              "      <td>29</td>\n",
              "      <td>0</td>\n",
              "      <td>26.6</td>\n",
              "      <td>0.351</td>\n",
              "      <td>31</td>\n",
              "      <td>tested_negative</td>\n",
              "    </tr>\n",
              "    <tr>\n",
              "      <th>2</th>\n",
              "      <td>8</td>\n",
              "      <td>183</td>\n",
              "      <td>64</td>\n",
              "      <td>0</td>\n",
              "      <td>0</td>\n",
              "      <td>23.3</td>\n",
              "      <td>0.672</td>\n",
              "      <td>32</td>\n",
              "      <td>tested_positive</td>\n",
              "    </tr>\n",
              "    <tr>\n",
              "      <th>3</th>\n",
              "      <td>1</td>\n",
              "      <td>89</td>\n",
              "      <td>66</td>\n",
              "      <td>23</td>\n",
              "      <td>94</td>\n",
              "      <td>28.1</td>\n",
              "      <td>0.167</td>\n",
              "      <td>21</td>\n",
              "      <td>tested_negative</td>\n",
              "    </tr>\n",
              "    <tr>\n",
              "      <th>4</th>\n",
              "      <td>0</td>\n",
              "      <td>137</td>\n",
              "      <td>40</td>\n",
              "      <td>35</td>\n",
              "      <td>168</td>\n",
              "      <td>43.1</td>\n",
              "      <td>2.288</td>\n",
              "      <td>33</td>\n",
              "      <td>tested_positive</td>\n",
              "    </tr>\n",
              "  </tbody>\n",
              "</table>\n",
              "</div>\n",
              "      <button class=\"colab-df-convert\" onclick=\"convertToInteractive('df-2cbb58f4-a538-4d93-9bb3-56acb37d694c')\"\n",
              "              title=\"Convert this dataframe to an interactive table.\"\n",
              "              style=\"display:none;\">\n",
              "        \n",
              "  <svg xmlns=\"http://www.w3.org/2000/svg\" height=\"24px\"viewBox=\"0 0 24 24\"\n",
              "       width=\"24px\">\n",
              "    <path d=\"M0 0h24v24H0V0z\" fill=\"none\"/>\n",
              "    <path d=\"M18.56 5.44l.94 2.06.94-2.06 2.06-.94-2.06-.94-.94-2.06-.94 2.06-2.06.94zm-11 1L8.5 8.5l.94-2.06 2.06-.94-2.06-.94L8.5 2.5l-.94 2.06-2.06.94zm10 10l.94 2.06.94-2.06 2.06-.94-2.06-.94-.94-2.06-.94 2.06-2.06.94z\"/><path d=\"M17.41 7.96l-1.37-1.37c-.4-.4-.92-.59-1.43-.59-.52 0-1.04.2-1.43.59L10.3 9.45l-7.72 7.72c-.78.78-.78 2.05 0 2.83L4 21.41c.39.39.9.59 1.41.59.51 0 1.02-.2 1.41-.59l7.78-7.78 2.81-2.81c.8-.78.8-2.07 0-2.86zM5.41 20L4 18.59l7.72-7.72 1.47 1.35L5.41 20z\"/>\n",
              "  </svg>\n",
              "      </button>\n",
              "      \n",
              "  <style>\n",
              "    .colab-df-container {\n",
              "      display:flex;\n",
              "      flex-wrap:wrap;\n",
              "      gap: 12px;\n",
              "    }\n",
              "\n",
              "    .colab-df-convert {\n",
              "      background-color: #E8F0FE;\n",
              "      border: none;\n",
              "      border-radius: 50%;\n",
              "      cursor: pointer;\n",
              "      display: none;\n",
              "      fill: #1967D2;\n",
              "      height: 32px;\n",
              "      padding: 0 0 0 0;\n",
              "      width: 32px;\n",
              "    }\n",
              "\n",
              "    .colab-df-convert:hover {\n",
              "      background-color: #E2EBFA;\n",
              "      box-shadow: 0px 1px 2px rgba(60, 64, 67, 0.3), 0px 1px 3px 1px rgba(60, 64, 67, 0.15);\n",
              "      fill: #174EA6;\n",
              "    }\n",
              "\n",
              "    [theme=dark] .colab-df-convert {\n",
              "      background-color: #3B4455;\n",
              "      fill: #D2E3FC;\n",
              "    }\n",
              "\n",
              "    [theme=dark] .colab-df-convert:hover {\n",
              "      background-color: #434B5C;\n",
              "      box-shadow: 0px 1px 3px 1px rgba(0, 0, 0, 0.15);\n",
              "      filter: drop-shadow(0px 1px 2px rgba(0, 0, 0, 0.3));\n",
              "      fill: #FFFFFF;\n",
              "    }\n",
              "  </style>\n",
              "\n",
              "      <script>\n",
              "        const buttonEl =\n",
              "          document.querySelector('#df-2cbb58f4-a538-4d93-9bb3-56acb37d694c button.colab-df-convert');\n",
              "        buttonEl.style.display =\n",
              "          google.colab.kernel.accessAllowed ? 'block' : 'none';\n",
              "\n",
              "        async function convertToInteractive(key) {\n",
              "          const element = document.querySelector('#df-2cbb58f4-a538-4d93-9bb3-56acb37d694c');\n",
              "          const dataTable =\n",
              "            await google.colab.kernel.invokeFunction('convertToInteractive',\n",
              "                                                     [key], {});\n",
              "          if (!dataTable) return;\n",
              "\n",
              "          const docLinkHtml = 'Like what you see? Visit the ' +\n",
              "            '<a target=\"_blank\" href=https://colab.research.google.com/notebooks/data_table.ipynb>data table notebook</a>'\n",
              "            + ' to learn more about interactive tables.';\n",
              "          element.innerHTML = '';\n",
              "          dataTable['output_type'] = 'display_data';\n",
              "          await google.colab.output.renderOutput(dataTable, element);\n",
              "          const docLink = document.createElement('div');\n",
              "          docLink.innerHTML = docLinkHtml;\n",
              "          element.appendChild(docLink);\n",
              "        }\n",
              "      </script>\n",
              "    </div>\n",
              "  </div>\n",
              "  "
            ],
            "text/plain": [
              "   preg  plas  pres  skin  insu  mass   pedi  age            class\n",
              "0     6   148    72    35     0  33.6  0.627   50  tested_positive\n",
              "1     1    85    66    29     0  26.6  0.351   31  tested_negative\n",
              "2     8   183    64     0     0  23.3  0.672   32  tested_positive\n",
              "3     1    89    66    23    94  28.1  0.167   21  tested_negative\n",
              "4     0   137    40    35   168  43.1  2.288   33  tested_positive"
            ]
          },
          "metadata": {},
          "execution_count": 11
        }
      ]
    },
    {
      "cell_type": "markdown",
      "source": [
        "Implementing binning method"
      ],
      "metadata": {
        "id": "2xMQ4o9ZzNfW"
      }
    },
    {
      "cell_type": "markdown",
      "source": [
        "Applying binning on mass attribute"
      ],
      "metadata": {
        "id": "FO8RXV9T9Pl2"
      }
    },
    {
      "cell_type": "code",
      "source": [
        "val = np.array(df1['mass'])\n",
        "print(val)"
      ],
      "metadata": {
        "colab": {
          "base_uri": "https://localhost:8080/"
        },
        "id": "_Yj4V2SczKZo",
        "outputId": "95959e85-3c55-4099-f70b-17aff50337e6"
      },
      "execution_count": null,
      "outputs": [
        {
          "output_type": "stream",
          "name": "stdout",
          "text": [
            "[33.6 26.6 23.3 28.1 43.1 25.6 31.  35.3 30.5 30.  37.6 38.  27.1 30.1\n",
            " 25.8 30.  45.8 29.6 43.3 34.6 39.3 35.4 39.8 29.  36.6 31.1 39.4 23.2\n",
            " 22.2 34.1 36.  31.6 24.8 19.9 27.6 24.  33.2 32.9 38.2 37.1 34.  40.2\n",
            " 22.7 45.4 27.4 42.  29.7 28.  39.1 30.  19.4 24.2 24.4 33.7 34.7 23.\n",
            " 37.7 46.8 40.5 41.5 30.  32.9 25.  25.4 32.8 29.  32.5 42.7 19.6 28.9\n",
            " 32.9 28.6 43.4 35.1 32.  24.7 32.6 37.7 43.2 25.  22.4 30.  29.3 24.6\n",
            " 48.8 32.4 36.6 38.5 37.1 26.5 19.1 32.  46.7 23.8 24.7 33.9 31.6 20.4\n",
            " 28.7 49.7 39.  26.1 22.5 26.6 39.6 28.7 22.4 29.5 34.3 37.4 33.3 34.\n",
            " 31.2 34.  30.5 31.2 34.  33.7 28.2 23.2 53.2 34.2 33.6 26.8 33.3 55.\n",
            " 42.9 33.3 34.5 27.9 29.7 33.3 34.5 38.3 21.1 33.8 30.8 28.7 31.2 36.9\n",
            " 21.1 39.5 32.5 32.4 32.8 30.  32.8 30.5 33.7 27.3 37.4 21.9 34.3 40.6\n",
            " 47.9 50.  24.6 25.2 29.  40.9 29.7 37.2 44.2 29.7 31.6 29.9 32.5 29.6\n",
            " 31.9 28.4 30.8 35.4 28.9 43.5 29.7 32.7 31.2 67.1 45.  39.1 23.2 34.9\n",
            " 27.7 26.8 27.6 35.9 30.1 32.  27.9 31.6 22.6 33.1 30.4 52.3 24.4 39.4\n",
            " 24.3 22.9 34.8 30.9 31.  40.1 27.3 20.4 37.7 23.9 37.5 37.7 33.2 35.5\n",
            " 27.7 42.8 34.2 42.6 34.2 41.8 35.8 30.  29.  37.8 34.6 31.6 25.2 28.8\n",
            " 23.6 34.6 35.7 37.2 36.7 45.2 44.  46.2 25.4 35.  29.7 43.6 35.9 44.1\n",
            " 30.8 18.4 29.2 33.1 25.6 27.1 38.2 30.  31.2 52.3 35.4 30.1 31.2 28.\n",
            " 24.4 35.8 27.6 33.6 30.1 28.7 25.9 33.3 30.9 30.  32.1 32.4 32.  33.6\n",
            " 36.3 40.  25.1 27.5 45.6 25.2 23.  33.2 34.2 40.5 26.5 27.8 24.9 25.3\n",
            " 37.9 35.9 32.4 30.4 27.  26.  38.7 45.6 20.8 36.1 36.9 36.6 43.3 40.5\n",
            " 21.9 35.5 28.  30.7 36.6 23.6 32.3 31.6 35.8 52.9 21.  39.7 25.5 24.8\n",
            " 30.5 32.9 26.2 39.4 26.6 29.5 35.9 34.1 19.3 30.5 38.1 23.5 27.5 31.6\n",
            " 27.4 26.8 35.7 25.6 35.1 35.1 45.5 30.8 23.1 32.7 43.3 23.6 23.9 47.9\n",
            " 33.8 31.2 34.2 39.9 25.9 25.9 32.  34.7 36.8 38.5 28.7 23.5 21.8 41.\n",
            " 42.2 31.2 34.4 27.2 42.7 30.4 33.3 39.9 35.3 36.5 31.2 29.8 39.2 38.5\n",
            " 34.9 34.  27.6 21.  27.5 32.8 38.4 30.  35.8 34.9 36.2 39.2 25.2 37.2\n",
            " 48.3 43.4 30.8 20.  25.4 25.1 24.3 22.3 32.3 43.3 32.  31.6 32.  45.7\n",
            " 23.7 22.1 32.9 27.7 24.7 34.3 21.1 34.9 32.  24.2 35.  31.6 32.9 42.1\n",
            " 28.9 21.9 25.9 42.4 35.7 34.4 42.4 26.2 34.6 35.7 27.2 38.5 18.2 26.4\n",
            " 45.3 26.  40.6 30.8 42.9 37.  30.  34.1 40.6 35.  22.2 30.4 30.  25.6\n",
            " 24.5 42.4 37.4 29.9 18.2 36.8 34.3 32.2 33.2 30.5 29.7 59.4 25.3 36.5\n",
            " 33.6 30.5 21.2 28.9 39.9 19.6 37.8 33.6 26.7 30.2 37.6 25.9 20.8 21.8\n",
            " 35.3 27.6 24.  21.8 27.8 36.8 30.  46.1 41.3 33.2 38.8 29.9 28.9 27.3\n",
            " 33.7 23.8 25.9 28.  35.5 35.2 27.8 38.2 44.2 42.3 40.7 46.5 25.6 26.1\n",
            " 36.8 33.5 32.8 28.9 30.  26.6 26.  30.1 25.1 29.3 25.2 37.2 39.  33.3\n",
            " 37.3 33.3 36.5 28.6 30.4 25.  29.7 22.1 24.2 27.3 25.6 31.6 30.3 37.6\n",
            " 32.8 19.6 25.  33.2 30.  34.2 31.6 21.8 18.2 26.3 30.8 24.6 29.8 45.3\n",
            " 41.3 29.8 33.3 32.9 29.6 21.7 36.3 36.4 39.4 32.4 34.9 39.5 32.  34.5\n",
            " 43.6 33.1 32.8 28.5 27.4 31.9 27.8 29.9 36.9 25.5 38.1 27.8 46.2 30.1\n",
            " 33.8 41.3 37.6 26.9 32.4 26.1 38.6 32.  31.3 34.3 32.5 22.6 29.5 34.7\n",
            " 30.1 35.5 24.  42.9 27.  34.7 42.1 25.  26.5 38.7 28.7 22.5 34.9 24.3\n",
            " 33.3 21.1 46.8 39.4 34.4 28.5 33.6 32.  45.3 27.8 36.8 23.1 27.1 23.7\n",
            " 27.8 35.2 28.4 35.8 40.  19.5 41.5 24.  30.9 32.9 38.2 32.5 36.1 25.8\n",
            " 28.7 20.1 28.2 32.4 38.4 24.2 40.8 43.5 30.8 37.7 24.7 32.4 34.6 24.7\n",
            " 27.4 34.5 26.2 27.5 25.9 31.2 28.8 31.6 40.9 19.5 29.3 34.3 29.5 28.\n",
            " 27.6 39.4 23.4 37.8 28.3 26.4 25.2 33.8 34.1 26.8 34.2 38.7 21.8 38.9\n",
            " 39.  34.2 27.7 42.9 37.6 37.9 33.7 34.8 32.5 27.5 34.  30.9 33.6 25.4\n",
            " 35.5 57.3 35.6 30.9 24.8 35.3 36.  24.2 24.2 49.6 44.6 32.3 30.  33.2\n",
            " 23.1 28.3 24.1 46.1 24.6 42.3 39.1 38.5 23.5 30.4 29.9 25.  34.5 44.5\n",
            " 35.9 27.6 35.  38.5 28.4 39.8 30.  34.4 32.8 38.  31.2 29.6 41.2 26.4\n",
            " 29.5 33.9 33.8 23.1 35.5 35.6 29.3 38.1 29.3 39.1 32.8 39.4 36.1 32.4\n",
            " 22.9 30.1 28.4 28.4 44.5 29.  23.3 35.4 27.4 32.  36.6 39.5 42.3 30.8\n",
            " 28.5 32.7 40.6 30.  49.3 46.3 36.4 24.3 31.2 39.  26.  43.3 32.4 36.5\n",
            " 32.  36.3 37.5 35.5 28.4 44.  22.5 32.9 36.8 26.2 30.1 30.4]\n"
          ]
        }
      ]
    },
    {
      "cell_type": "code",
      "source": [
        "val.sort()\n",
        "print(val)"
      ],
      "metadata": {
        "colab": {
          "base_uri": "https://localhost:8080/"
        },
        "id": "AXckhKp0zxSV",
        "outputId": "cbd04141-41b3-41d5-bf6d-de497cb8ee6c"
      },
      "execution_count": null,
      "outputs": [
        {
          "output_type": "stream",
          "name": "stdout",
          "text": [
            "[18.2 18.2 18.2 18.4 19.1 19.3 19.4 19.5 19.5 19.6 19.6 19.6 19.9 20.\n",
            " 20.1 20.4 20.4 20.8 20.8 21.  21.  21.1 21.1 21.1 21.1 21.2 21.7 21.8\n",
            " 21.8 21.8 21.8 21.8 21.9 21.9 21.9 22.1 22.1 22.2 22.2 22.3 22.4 22.4\n",
            " 22.5 22.5 22.5 22.6 22.6 22.7 22.9 22.9 23.  23.  23.1 23.1 23.1 23.1\n",
            " 23.2 23.2 23.2 23.3 23.3 23.4 23.5 23.5 23.5 23.6 23.6 23.6 23.7 23.7\n",
            " 23.8 23.8 23.9 23.9 24.  24.  24.  24.  24.1 24.2 24.2 24.2 24.2 24.2\n",
            " 24.2 24.3 24.3 24.3 24.3 24.4 24.4 24.4 24.5 24.6 24.6 24.6 24.6 24.7\n",
            " 24.7 24.7 24.7 24.7 24.8 24.8 24.8 24.9 25.  25.  25.  25.  25.  25.\n",
            " 25.1 25.1 25.1 25.2 25.2 25.2 25.2 25.2 25.2 25.3 25.3 25.4 25.4 25.4\n",
            " 25.4 25.5 25.5 25.6 25.6 25.6 25.6 25.6 25.6 25.8 25.8 25.9 25.9 25.9\n",
            " 25.9 25.9 25.9 25.9 26.  26.  26.  26.  26.1 26.1 26.1 26.2 26.2 26.2\n",
            " 26.2 26.3 26.4 26.4 26.4 26.5 26.5 26.5 26.6 26.6 26.6 26.6 26.7 26.8\n",
            " 26.8 26.8 26.8 26.9 27.  27.  27.1 27.1 27.1 27.2 27.2 27.3 27.3 27.3\n",
            " 27.3 27.4 27.4 27.4 27.4 27.4 27.5 27.5 27.5 27.5 27.5 27.6 27.6 27.6\n",
            " 27.6 27.6 27.6 27.6 27.7 27.7 27.7 27.7 27.8 27.8 27.8 27.8 27.8 27.8\n",
            " 27.8 27.9 27.9 28.  28.  28.  28.  28.  28.1 28.2 28.2 28.3 28.3 28.4\n",
            " 28.4 28.4 28.4 28.4 28.4 28.5 28.5 28.5 28.6 28.6 28.7 28.7 28.7 28.7\n",
            " 28.7 28.7 28.7 28.8 28.8 28.9 28.9 28.9 28.9 28.9 28.9 29.  29.  29.\n",
            " 29.  29.  29.2 29.3 29.3 29.3 29.3 29.3 29.5 29.5 29.5 29.5 29.5 29.6\n",
            " 29.6 29.6 29.6 29.7 29.7 29.7 29.7 29.7 29.7 29.7 29.7 29.8 29.8 29.8\n",
            " 29.9 29.9 29.9 29.9 29.9 30.  30.  30.  30.  30.  30.  30.  30.  30.\n",
            " 30.  30.  30.  30.  30.  30.  30.  30.  30.  30.1 30.1 30.1 30.1 30.1\n",
            " 30.1 30.1 30.1 30.1 30.2 30.3 30.4 30.4 30.4 30.4 30.4 30.4 30.4 30.5\n",
            " 30.5 30.5 30.5 30.5 30.5 30.5 30.7 30.8 30.8 30.8 30.8 30.8 30.8 30.8\n",
            " 30.8 30.8 30.9 30.9 30.9 30.9 30.9 31.  31.  31.1 31.2 31.2 31.2 31.2\n",
            " 31.2 31.2 31.2 31.2 31.2 31.2 31.2 31.2 31.3 31.6 31.6 31.6 31.6 31.6\n",
            " 31.6 31.6 31.6 31.6 31.6 31.6 31.6 31.9 31.9 32.  32.  32.  32.  32.\n",
            " 32.  32.  32.  32.  32.  32.  32.  32.  32.1 32.2 32.3 32.3 32.3 32.4\n",
            " 32.4 32.4 32.4 32.4 32.4 32.4 32.4 32.4 32.4 32.5 32.5 32.5 32.5 32.5\n",
            " 32.5 32.6 32.7 32.7 32.7 32.8 32.8 32.8 32.8 32.8 32.8 32.8 32.8 32.8\n",
            " 32.9 32.9 32.9 32.9 32.9 32.9 32.9 32.9 32.9 33.1 33.1 33.1 33.2 33.2\n",
            " 33.2 33.2 33.2 33.2 33.2 33.3 33.3 33.3 33.3 33.3 33.3 33.3 33.3 33.3\n",
            " 33.3 33.5 33.6 33.6 33.6 33.6 33.6 33.6 33.6 33.6 33.7 33.7 33.7 33.7\n",
            " 33.7 33.8 33.8 33.8 33.8 33.8 33.9 33.9 34.  34.  34.  34.  34.  34.\n",
            " 34.1 34.1 34.1 34.1 34.2 34.2 34.2 34.2 34.2 34.2 34.2 34.2 34.3 34.3\n",
            " 34.3 34.3 34.3 34.3 34.4 34.4 34.4 34.4 34.5 34.5 34.5 34.5 34.5 34.6\n",
            " 34.6 34.6 34.6 34.6 34.7 34.7 34.7 34.7 34.8 34.8 34.9 34.9 34.9 34.9\n",
            " 34.9 34.9 35.  35.  35.  35.  35.1 35.1 35.1 35.2 35.2 35.3 35.3 35.3\n",
            " 35.3 35.4 35.4 35.4 35.4 35.5 35.5 35.5 35.5 35.5 35.5 35.5 35.6 35.6\n",
            " 35.7 35.7 35.7 35.7 35.8 35.8 35.8 35.8 35.8 35.9 35.9 35.9 35.9 35.9\n",
            " 36.  36.  36.1 36.1 36.1 36.2 36.3 36.3 36.3 36.4 36.4 36.5 36.5 36.5\n",
            " 36.5 36.6 36.6 36.6 36.6 36.6 36.7 36.8 36.8 36.8 36.8 36.8 36.8 36.9\n",
            " 36.9 36.9 37.  37.1 37.1 37.2 37.2 37.2 37.2 37.3 37.4 37.4 37.4 37.5\n",
            " 37.5 37.6 37.6 37.6 37.6 37.6 37.7 37.7 37.7 37.7 37.7 37.8 37.8 37.8\n",
            " 37.9 37.9 38.  38.  38.1 38.1 38.1 38.2 38.2 38.2 38.2 38.3 38.4 38.4\n",
            " 38.5 38.5 38.5 38.5 38.5 38.5 38.6 38.7 38.7 38.7 38.8 38.9 39.  39.\n",
            " 39.  39.  39.1 39.1 39.1 39.1 39.2 39.2 39.3 39.4 39.4 39.4 39.4 39.4\n",
            " 39.4 39.4 39.5 39.5 39.5 39.6 39.7 39.8 39.8 39.9 39.9 39.9 40.  40.\n",
            " 40.1 40.2 40.5 40.5 40.5 40.6 40.6 40.6 40.6 40.7 40.8 40.9 40.9 41.\n",
            " 41.2 41.3 41.3 41.3 41.5 41.5 41.8 42.  42.1 42.1 42.2 42.3 42.3 42.3\n",
            " 42.4 42.4 42.4 42.6 42.7 42.7 42.8 42.9 42.9 42.9 42.9 43.1 43.2 43.3\n",
            " 43.3 43.3 43.3 43.3 43.4 43.4 43.5 43.5 43.6 43.6 44.  44.  44.1 44.2\n",
            " 44.2 44.5 44.5 44.6 45.  45.2 45.3 45.3 45.3 45.4 45.5 45.6 45.6 45.7\n",
            " 45.8 46.1 46.1 46.2 46.2 46.3 46.5 46.7 46.8 46.8 47.9 47.9 48.3 48.8\n",
            " 49.3 49.6 49.7 50.  52.3 52.3 52.9 53.2 55.  57.3 59.4 67.1]\n"
          ]
        }
      ]
    },
    {
      "cell_type": "markdown",
      "source": [
        "Initializing bins"
      ],
      "metadata": {
        "id": "1ioqApQ-9X3L"
      }
    },
    {
      "cell_type": "code",
      "source": [
        "bin_size = 8\n",
        "bin = np.zeros((int(len(val)/bin_size), bin_size))\n",
        "bin.shape"
      ],
      "metadata": {
        "colab": {
          "base_uri": "https://localhost:8080/"
        },
        "id": "OBXaMouK0Fts",
        "outputId": "9cf93326-830c-4ae6-a106-5889a2a9f837"
      },
      "execution_count": null,
      "outputs": [
        {
          "output_type": "execute_result",
          "data": {
            "text/plain": [
              "(96, 8)"
            ]
          },
          "metadata": {},
          "execution_count": 29
        }
      ]
    },
    {
      "cell_type": "code",
      "source": [
        "for i in range(0,len(val),bin_size):\n",
        "    sum=0\n",
        "    for j in range(bin_size):\n",
        "        sum = sum + val[j+i]\n",
        "    avg = sum/bin_size\n",
        "    for j in range(bin_size):\n",
        "        bin[int(i/bin_size), j] = avg\n",
        "print(bin.shape)"
      ],
      "metadata": {
        "colab": {
          "base_uri": "https://localhost:8080/"
        },
        "id": "wjA-ruRL3p8h",
        "outputId": "666ab12f-f8ae-400c-d4f6-8c75a09e5f43"
      },
      "execution_count": null,
      "outputs": [
        {
          "output_type": "stream",
          "name": "stdout",
          "text": [
            "(96, 8)\n"
          ]
        }
      ]
    },
    {
      "cell_type": "code",
      "source": [
        "print(bin)"
      ],
      "metadata": {
        "colab": {
          "base_uri": "https://localhost:8080/"
        },
        "id": "sLFE8L0X5O0d",
        "outputId": "867ff11d-2b15-4322-d6a4-ad7cb6de9698"
      },
      "execution_count": null,
      "outputs": [
        {
          "output_type": "stream",
          "name": "stdout",
          "text": [
            "[[18.7875 18.7875 18.7875 18.7875 18.7875 18.7875 18.7875 18.7875]\n",
            " [19.8375 19.8375 19.8375 19.8375 19.8375 19.8375 19.8375 19.8375]\n",
            " [20.9125 20.9125 20.9125 20.9125 20.9125 20.9125 20.9125 20.9125]\n",
            " [21.625  21.625  21.625  21.625  21.625  21.625  21.625  21.625 ]\n",
            " [22.075  22.075  22.075  22.075  22.075  22.075  22.075  22.075 ]\n",
            " [22.525  22.525  22.525  22.525  22.525  22.525  22.525  22.525 ]\n",
            " [23.025  23.025  23.025  23.025  23.025  23.025  23.025  23.025 ]\n",
            " [23.325  23.325  23.325  23.325  23.325  23.325  23.325  23.325 ]\n",
            " [23.6625 23.6625 23.6625 23.6625 23.6625 23.6625 23.6625 23.6625]\n",
            " [24.0125 24.0125 24.0125 24.0125 24.0125 24.0125 24.0125 24.0125]\n",
            " [24.2375 24.2375 24.2375 24.2375 24.2375 24.2375 24.2375 24.2375]\n",
            " [24.475  24.475  24.475  24.475  24.475  24.475  24.475  24.475 ]\n",
            " [24.7125 24.7125 24.7125 24.7125 24.7125 24.7125 24.7125 24.7125]\n",
            " [24.9625 24.9625 24.9625 24.9625 24.9625 24.9625 24.9625 24.9625]\n",
            " [25.1625 25.1625 25.1625 25.1625 25.1625 25.1625 25.1625 25.1625]\n",
            " [25.3625 25.3625 25.3625 25.3625 25.3625 25.3625 25.3625 25.3625]\n",
            " [25.6125 25.6125 25.6125 25.6125 25.6125 25.6125 25.6125 25.6125]\n",
            " [25.8875 25.8875 25.8875 25.8875 25.8875 25.8875 25.8875 25.8875]\n",
            " [26.0625 26.0625 26.0625 26.0625 26.0625 26.0625 26.0625 26.0625]\n",
            " [26.325  26.325  26.325  26.325  26.325  26.325  26.325  26.325 ]\n",
            " [26.6125 26.6125 26.6125 26.6125 26.6125 26.6125 26.6125 26.6125]\n",
            " [26.9375 26.9375 26.9375 26.9375 26.9375 26.9375 26.9375 26.9375]\n",
            " [27.2625 27.2625 27.2625 27.2625 27.2625 27.2625 27.2625 27.2625]\n",
            " [27.45   27.45   27.45   27.45   27.45   27.45   27.45   27.45  ]\n",
            " [27.5875 27.5875 27.5875 27.5875 27.5875 27.5875 27.5875 27.5875]\n",
            " [27.75   27.75   27.75   27.75   27.75   27.75   27.75   27.75  ]\n",
            " [27.9    27.9    27.9    27.9    27.9    27.9    27.9    27.9   ]\n",
            " [28.1875 28.1875 28.1875 28.1875 28.1875 28.1875 28.1875 28.1875]\n",
            " [28.4375 28.4375 28.4375 28.4375 28.4375 28.4375 28.4375 28.4375]\n",
            " [28.675  28.675  28.675  28.675  28.675  28.675  28.675  28.675 ]\n",
            " [28.85   28.85   28.85   28.85   28.85   28.85   28.85   28.85  ]\n",
            " [29.05   29.05   29.05   29.05   29.05   29.05   29.05   29.05  ]\n",
            " [29.4    29.4    29.4    29.4    29.4    29.4    29.4    29.4   ]\n",
            " [29.625  29.625  29.625  29.625  29.625  29.625  29.625  29.625 ]\n",
            " [29.7375 29.7375 29.7375 29.7375 29.7375 29.7375 29.7375 29.7375]\n",
            " [29.9375 29.9375 29.9375 29.9375 29.9375 29.9375 29.9375 29.9375]\n",
            " [30.     30.     30.     30.     30.     30.     30.     30.    ]\n",
            " [30.0125 30.0125 30.0125 30.0125 30.0125 30.0125 30.0125 30.0125]\n",
            " [30.1    30.1    30.1    30.1    30.1    30.1    30.1    30.1   ]\n",
            " [30.3625 30.3625 30.3625 30.3625 30.3625 30.3625 30.3625 30.3625]\n",
            " [30.4875 30.4875 30.4875 30.4875 30.4875 30.4875 30.4875 30.4875]\n",
            " [30.7875 30.7875 30.7875 30.7875 30.7875 30.7875 30.7875 30.7875]\n",
            " [30.8875 30.8875 30.8875 30.8875 30.8875 30.8875 30.8875 30.8875]\n",
            " [31.1625 31.1625 31.1625 31.1625 31.1625 31.1625 31.1625 31.1625]\n",
            " [31.2625 31.2625 31.2625 31.2625 31.2625 31.2625 31.2625 31.2625]\n",
            " [31.6    31.6    31.6    31.6    31.6    31.6    31.6    31.6   ]\n",
            " [31.825  31.825  31.825  31.825  31.825  31.825  31.825  31.825 ]\n",
            " [32.     32.     32.     32.     32.     32.     32.     32.    ]\n",
            " [32.2    32.2    32.2    32.2    32.2    32.2    32.2    32.2   ]\n",
            " [32.4    32.4    32.4    32.4    32.4    32.4    32.4    32.4   ]\n",
            " [32.5    32.5    32.5    32.5    32.5    32.5    32.5    32.5   ]\n",
            " [32.7625 32.7625 32.7625 32.7625 32.7625 32.7625 32.7625 32.7625]\n",
            " [32.85   32.85   32.85   32.85   32.85   32.85   32.85   32.85  ]\n",
            " [32.975  32.975  32.975  32.975  32.975  32.975  32.975  32.975 ]\n",
            " [33.2125 33.2125 33.2125 33.2125 33.2125 33.2125 33.2125 33.2125]\n",
            " [33.3    33.3    33.3    33.3    33.3    33.3    33.3    33.3   ]\n",
            " [33.55   33.55   33.55   33.55   33.55   33.55   33.55   33.55  ]\n",
            " [33.6875 33.6875 33.6875 33.6875 33.6875 33.6875 33.6875 33.6875]\n",
            " [33.875  33.875  33.875  33.875  33.875  33.875  33.875  33.875 ]\n",
            " [34.05   34.05   34.05   34.05   34.05   34.05   34.05   34.05  ]\n",
            " [34.2    34.2    34.2    34.2    34.2    34.2    34.2    34.2   ]\n",
            " [34.325  34.325  34.325  34.325  34.325  34.325  34.325  34.325 ]\n",
            " [34.4875 34.4875 34.4875 34.4875 34.4875 34.4875 34.4875 34.4875]\n",
            " [34.65   34.65   34.65   34.65   34.65   34.65   34.65   34.65  ]\n",
            " [34.875  34.875  34.875  34.875  34.875  34.875  34.875  34.875 ]\n",
            " [35.0625 35.0625 35.0625 35.0625 35.0625 35.0625 35.0625 35.0625]\n",
            " [35.325  35.325  35.325  35.325  35.325  35.325  35.325  35.325 ]\n",
            " [35.4875 35.4875 35.4875 35.4875 35.4875 35.4875 35.4875 35.4875]\n",
            " [35.7    35.7    35.7    35.7    35.7    35.7    35.7    35.7   ]\n",
            " [35.8625 35.8625 35.8625 35.8625 35.8625 35.8625 35.8625 35.8625]\n",
            " [36.1375 36.1375 36.1375 36.1375 36.1375 36.1375 36.1375 36.1375]\n",
            " [36.4625 36.4625 36.4625 36.4625 36.4625 36.4625 36.4625 36.4625]\n",
            " [36.6875 36.6875 36.6875 36.6875 36.6875 36.6875 36.6875 36.6875]\n",
            " [36.9    36.9    36.9    36.9    36.9    36.9    36.9    36.9   ]\n",
            " [37.25   37.25   37.25   37.25   37.25   37.25   37.25   37.25  ]\n",
            " [37.55   37.55   37.55   37.55   37.55   37.55   37.55   37.55  ]\n",
            " [37.7375 37.7375 37.7375 37.7375 37.7375 37.7375 37.7375 37.7375]\n",
            " [38.0375 38.0375 38.0375 38.0375 38.0375 38.0375 38.0375 38.0375]\n",
            " [38.3375 38.3375 38.3375 38.3375 38.3375 38.3375 38.3375 38.3375]\n",
            " [38.5875 38.5875 38.5875 38.5875 38.5875 38.5875 38.5875 38.5875]\n",
            " [38.9875 38.9875 38.9875 38.9875 38.9875 38.9875 38.9875 38.9875]\n",
            " [39.2625 39.2625 39.2625 39.2625 39.2625 39.2625 39.2625 39.2625]\n",
            " [39.4625 39.4625 39.4625 39.4625 39.4625 39.4625 39.4625 39.4625]\n",
            " [39.875  39.875  39.875  39.875  39.875  39.875  39.875  39.875 ]\n",
            " [40.45   40.45   40.45   40.45   40.45   40.45   40.45   40.45  ]\n",
            " [40.925  40.925  40.925  40.925  40.925  40.925  40.925  40.925 ]\n",
            " [41.7    41.7    41.7    41.7    41.7    41.7    41.7    41.7   ]\n",
            " [42.3625 42.3625 42.3625 42.3625 42.3625 42.3625 42.3625 42.3625]\n",
            " [42.8625 42.8625 42.8625 42.8625 42.8625 42.8625 42.8625 42.8625]\n",
            " [43.3125 43.3125 43.3125 43.3125 43.3125 43.3125 43.3125 43.3125]\n",
            " [43.8125 43.8125 43.8125 43.8125 43.8125 43.8125 43.8125 43.8125]\n",
            " [44.825  44.825  44.825  44.825  44.825  44.825  44.825  44.825 ]\n",
            " [45.625  45.625  45.625  45.625  45.625  45.625  45.625  45.625 ]\n",
            " [46.45   46.45   46.45   46.45   46.45   46.45   46.45   46.45  ]\n",
            " [48.9375 48.9375 48.9375 48.9375 48.9375 48.9375 48.9375 48.9375]\n",
            " [56.1875 56.1875 56.1875 56.1875 56.1875 56.1875 56.1875 56.1875]]\n"
          ]
        }
      ]
    },
    {
      "cell_type": "markdown",
      "source": [
        "Applying Binnig on Age attribute"
      ],
      "metadata": {
        "id": "POTwrDlO9HAU"
      }
    },
    {
      "cell_type": "code",
      "source": [
        "val2 = np.array(df1['age'])\n",
        "print(val2)"
      ],
      "metadata": {
        "colab": {
          "base_uri": "https://localhost:8080/"
        },
        "id": "PFiIsetq5qEC",
        "outputId": "ef655e0b-45b1-446e-e263-a2b111bb2533"
      },
      "execution_count": null,
      "outputs": [
        {
          "output_type": "stream",
          "name": "stdout",
          "text": [
            "[50 31 32 21 33 30 26 29 53 54 30 34 57 59 51 32 31 31 33 32 27 50 41 29\n",
            " 51 41 43 22 57 38 60 28 22 28 45 33 35 46 27 56 26 37 48 54 40 25 29 22\n",
            " 31 24 22 26 30 58 42 21 41 31 44 22 21 39 36 24 42 32 38 54 25 27 28 26\n",
            " 42 23 22 22 41 27 26 24 22 22 36 22 37 27 45 26 43 24 21 34 42 60 21 40\n",
            " 24 22 23 31 33 22 21 24 27 21 27 37 25 24 24 46 23 25 39 61 38 25 22 21\n",
            " 25 24 23 69 23 26 30 23 40 62 33 33 30 39 26 31 21 22 29 28 55 38 22 42\n",
            " 23 21 41 34 65 22 24 37 42 23 43 36 21 23 22 47 36 45 27 21 32 41 22 34\n",
            " 29 29 36 29 25 23 33 36 42 26 47 37 32 23 21 27 40 41 60 33 31 25 21 40\n",
            " 36 40 42 29 21 23 26 29 21 28 32 27 55 27 57 52 21 41 25 24 60 24 36 38\n",
            " 25 32 32 41 21 66 37 61 26 22 26 24 31 24 22 46 22 29 23 26 51 23 32 27\n",
            " 21 22 22 33 29 49 41 23 34 23 42 27 24 25 44 21 30 25 24 51 34 27 24 63\n",
            " 35 43 25 24 21 28 38 21 40 21 52 25 29 23 57 22 28 39 37 47 52 51 34 29\n",
            " 26 33 21 25 31 24 65 28 29 24 46 58 30 25 35 28 37 29 47 21 25 30 41 22\n",
            " 27 25 43 26 30 29 28 59 31 25 36 43 21 24 30 37 23 37 46 25 41 44 22 26\n",
            " 44 44 33 41 22 36 22 33 57 49 22 23 26 37 29 30 46 24 21 49 28 44 48 29\n",
            " 29 63 65 67 30 30 29 21 22 45 25 21 21 25 28 58 22 22 32 35 24 22 21 25\n",
            " 25 24 35 45 58 28 42 27 21 37 31 25 39 22 25 25 31 55 35 38 41 26 46 25\n",
            " 39 28 28 25 22 21 21 22 22 37 27 28 26 21 21 21 36 31 25 38 26 43 23 38\n",
            " 22 29 36 29 41 28 21 31 41 22 24 33 30 25 28 26 22 26 23 23 25 72 24 38\n",
            " 62 24 51 81 48 26 39 37 34 21 22 25 38 27 28 22 22 50 24 59 29 31 39 63\n",
            " 35 29 28 23 31 24 21 58 28 67 24 42 33 45 22 66 30 25 55 39 21 28 41 41\n",
            " 40 38 35 21 21 64 46 21 58 22 24 28 53 51 41 60 25 26 26 45 24 21 21 24\n",
            " 22 31 22 24 29 31 24 23 46 67 23 32 43 27 56 25 29 37 53 28 50 37 21 25\n",
            " 66 23 28 37 30 58 42 35 54 28 24 32 27 22 21 46 37 33 39 21 22 22 23 25\n",
            " 35 21 36 62 21 27 62 42 52 22 41 29 52 25 45 24 44 25 34 22 46 21 38 26\n",
            " 24 28 30 54 36 21 22 25 27 23 24 36 40 26 50 27 30 23 50 24 28 28 45 21\n",
            " 21 29 21 21 45 21 34 24 23 22 31 38 48 23 32 28 27 24 50 31 27 30 33 22\n",
            " 42 23 23 27 28 27 22 25 22 41 51 27 54 22 43 40 40 24 70 40 43 45 49 21\n",
            " 47 22 68 31 53 25 25 23 22 26 22 27 69 25 22 29 23 46 34 44 23 43 25 43\n",
            " 31 22 28 26 26 49 52 41 27 28 30 22 45 23 24 40 38 21 32 34 31 56 24 52\n",
            " 34 21 42 42 45 38 25 22 22 22 34 22 24 22 53 28 21 42 21 42 48 26 22 45\n",
            " 39 46 27 32 36 50 22 28 25 26 45 37 39 52 26 66 22 43 33 63 27 30 47 23]\n"
          ]
        }
      ]
    },
    {
      "cell_type": "code",
      "source": [
        "val2.sort()\n",
        "val2"
      ],
      "metadata": {
        "colab": {
          "base_uri": "https://localhost:8080/"
        },
        "id": "qvEaCSXO6ckv",
        "outputId": "9cbe4090-108a-4eb4-d2ea-a3ced709871e"
      },
      "execution_count": null,
      "outputs": [
        {
          "output_type": "execute_result",
          "data": {
            "text/plain": [
              "array([21, 21, 21, 21, 21, 21, 21, 21, 21, 21, 21, 21, 21, 21, 21, 21, 21,\n",
              "       21, 21, 21, 21, 21, 21, 21, 21, 21, 21, 21, 21, 21, 21, 21, 21, 21,\n",
              "       21, 21, 21, 21, 21, 21, 21, 21, 21, 21, 21, 21, 21, 21, 21, 21, 21,\n",
              "       21, 21, 21, 21, 21, 21, 21, 21, 21, 21, 21, 21, 22, 22, 22, 22, 22,\n",
              "       22, 22, 22, 22, 22, 22, 22, 22, 22, 22, 22, 22, 22, 22, 22, 22, 22,\n",
              "       22, 22, 22, 22, 22, 22, 22, 22, 22, 22, 22, 22, 22, 22, 22, 22, 22,\n",
              "       22, 22, 22, 22, 22, 22, 22, 22, 22, 22, 22, 22, 22, 22, 22, 22, 22,\n",
              "       22, 22, 22, 22, 22, 22, 22, 22, 22, 22, 22, 22, 22, 22, 22, 22, 23,\n",
              "       23, 23, 23, 23, 23, 23, 23, 23, 23, 23, 23, 23, 23, 23, 23, 23, 23,\n",
              "       23, 23, 23, 23, 23, 23, 23, 23, 23, 23, 23, 23, 23, 23, 23, 23, 23,\n",
              "       23, 23, 23, 24, 24, 24, 24, 24, 24, 24, 24, 24, 24, 24, 24, 24, 24,\n",
              "       24, 24, 24, 24, 24, 24, 24, 24, 24, 24, 24, 24, 24, 24, 24, 24, 24,\n",
              "       24, 24, 24, 24, 24, 24, 24, 24, 24, 24, 24, 24, 24, 24, 24, 25, 25,\n",
              "       25, 25, 25, 25, 25, 25, 25, 25, 25, 25, 25, 25, 25, 25, 25, 25, 25,\n",
              "       25, 25, 25, 25, 25, 25, 25, 25, 25, 25, 25, 25, 25, 25, 25, 25, 25,\n",
              "       25, 25, 25, 25, 25, 25, 25, 25, 25, 25, 25, 25, 26, 26, 26, 26, 26,\n",
              "       26, 26, 26, 26, 26, 26, 26, 26, 26, 26, 26, 26, 26, 26, 26, 26, 26,\n",
              "       26, 26, 26, 26, 26, 26, 26, 26, 26, 26, 26, 27, 27, 27, 27, 27, 27,\n",
              "       27, 27, 27, 27, 27, 27, 27, 27, 27, 27, 27, 27, 27, 27, 27, 27, 27,\n",
              "       27, 27, 27, 27, 27, 27, 27, 27, 27, 28, 28, 28, 28, 28, 28, 28, 28,\n",
              "       28, 28, 28, 28, 28, 28, 28, 28, 28, 28, 28, 28, 28, 28, 28, 28, 28,\n",
              "       28, 28, 28, 28, 28, 28, 28, 28, 28, 28, 29, 29, 29, 29, 29, 29, 29,\n",
              "       29, 29, 29, 29, 29, 29, 29, 29, 29, 29, 29, 29, 29, 29, 29, 29, 29,\n",
              "       29, 29, 29, 29, 29, 30, 30, 30, 30, 30, 30, 30, 30, 30, 30, 30, 30,\n",
              "       30, 30, 30, 30, 30, 30, 30, 30, 30, 31, 31, 31, 31, 31, 31, 31, 31,\n",
              "       31, 31, 31, 31, 31, 31, 31, 31, 31, 31, 31, 31, 31, 31, 31, 31, 32,\n",
              "       32, 32, 32, 32, 32, 32, 32, 32, 32, 32, 32, 32, 32, 32, 32, 33, 33,\n",
              "       33, 33, 33, 33, 33, 33, 33, 33, 33, 33, 33, 33, 33, 33, 33, 34, 34,\n",
              "       34, 34, 34, 34, 34, 34, 34, 34, 34, 34, 34, 34, 35, 35, 35, 35, 35,\n",
              "       35, 35, 35, 35, 35, 36, 36, 36, 36, 36, 36, 36, 36, 36, 36, 36, 36,\n",
              "       36, 36, 36, 36, 37, 37, 37, 37, 37, 37, 37, 37, 37, 37, 37, 37, 37,\n",
              "       37, 37, 37, 37, 37, 37, 38, 38, 38, 38, 38, 38, 38, 38, 38, 38, 38,\n",
              "       38, 38, 38, 38, 38, 39, 39, 39, 39, 39, 39, 39, 39, 39, 39, 39, 39,\n",
              "       40, 40, 40, 40, 40, 40, 40, 40, 40, 40, 40, 40, 40, 41, 41, 41, 41,\n",
              "       41, 41, 41, 41, 41, 41, 41, 41, 41, 41, 41, 41, 41, 41, 41, 41, 41,\n",
              "       41, 42, 42, 42, 42, 42, 42, 42, 42, 42, 42, 42, 42, 42, 42, 42, 42,\n",
              "       42, 42, 43, 43, 43, 43, 43, 43, 43, 43, 43, 43, 43, 43, 43, 44, 44,\n",
              "       44, 44, 44, 44, 44, 44, 45, 45, 45, 45, 45, 45, 45, 45, 45, 45, 45,\n",
              "       45, 45, 45, 45, 46, 46, 46, 46, 46, 46, 46, 46, 46, 46, 46, 46, 46,\n",
              "       47, 47, 47, 47, 47, 47, 48, 48, 48, 48, 48, 49, 49, 49, 49, 49, 50,\n",
              "       50, 50, 50, 50, 50, 50, 50, 51, 51, 51, 51, 51, 51, 51, 51, 52, 52,\n",
              "       52, 52, 52, 52, 52, 52, 53, 53, 53, 53, 53, 54, 54, 54, 54, 54, 54,\n",
              "       55, 55, 55, 55, 56, 56, 56, 57, 57, 57, 57, 57, 58, 58, 58, 58, 58,\n",
              "       58, 58, 59, 59, 59, 60, 60, 60, 60, 60, 61, 61, 62, 62, 62, 62, 63,\n",
              "       63, 63, 63, 64, 65, 65, 65, 66, 66, 66, 66, 67, 67, 67, 68, 69, 69,\n",
              "       70, 72, 81])"
            ]
          },
          "metadata": {},
          "execution_count": 35
        }
      ]
    },
    {
      "cell_type": "markdown",
      "source": [
        "Initializing bins"
      ],
      "metadata": {
        "id": "11Z6ULkf9ctz"
      }
    },
    {
      "cell_type": "code",
      "source": [
        "bin_size_2 = 32\n",
        "bin2 = np.zeros((int(len(val2)/bin_size_2),bin_size_2))\n",
        "bin2.shape"
      ],
      "metadata": {
        "colab": {
          "base_uri": "https://localhost:8080/"
        },
        "id": "5NZu0Jx26xDC",
        "outputId": "219e70be-00e7-4d76-801b-ac6f2b238c4b"
      },
      "execution_count": null,
      "outputs": [
        {
          "output_type": "execute_result",
          "data": {
            "text/plain": [
              "(24, 32)"
            ]
          },
          "metadata": {},
          "execution_count": 37
        }
      ]
    },
    {
      "cell_type": "code",
      "source": [
        "for i in range(0,len(val2),bin_size_2):\n",
        "    sum=0\n",
        "    for j in range(bin_size_2):\n",
        "        sum = sum + val[j+i]\n",
        "    avg = sum/bin_size_2\n",
        "    for j in range(bin_size_2):\n",
        "        bin2[int(i/bin_size_2), j] = avg\n",
        "print(bin2.shape)"
      ],
      "metadata": {
        "colab": {
          "base_uri": "https://localhost:8080/"
        },
        "id": "rj2XfTCA7Psi",
        "outputId": "bc30b496-490d-49b8-d6e3-27bf0fb843f6"
      },
      "execution_count": null,
      "outputs": [
        {
          "output_type": "stream",
          "name": "stdout",
          "text": [
            "(24, 32)\n"
          ]
        }
      ]
    },
    {
      "cell_type": "code",
      "source": [
        "bin2"
      ],
      "metadata": {
        "id": "UEG25Uae7kae",
        "outputId": "a540e8c4-d138-452b-8fff-d6d085bca7db",
        "colab": {
          "base_uri": "https://localhost:8080/"
        }
      },
      "execution_count": null,
      "outputs": [
        {
          "output_type": "execute_result",
          "data": {
            "text/plain": [
              "array([[20.290625, 20.290625, 20.290625, 20.290625, 20.290625, 20.290625,\n",
              "        20.290625, 20.290625, 20.290625, 20.290625, 20.290625, 20.290625,\n",
              "        20.290625, 20.290625, 20.290625, 20.290625, 20.290625, 20.290625,\n",
              "        20.290625, 20.290625, 20.290625, 20.290625, 20.290625, 20.290625,\n",
              "        20.290625, 20.290625, 20.290625, 20.290625, 20.290625, 20.290625,\n",
              "        20.290625, 20.290625],\n",
              "       [22.7375  , 22.7375  , 22.7375  , 22.7375  , 22.7375  , 22.7375  ,\n",
              "        22.7375  , 22.7375  , 22.7375  , 22.7375  , 22.7375  , 22.7375  ,\n",
              "        22.7375  , 22.7375  , 22.7375  , 22.7375  , 22.7375  , 22.7375  ,\n",
              "        22.7375  , 22.7375  , 22.7375  , 22.7375  , 22.7375  , 22.7375  ,\n",
              "        22.7375  , 22.7375  , 22.7375  , 22.7375  , 22.7375  , 22.7375  ,\n",
              "        22.7375  , 22.7375  ],\n",
              "       [24.096875, 24.096875, 24.096875, 24.096875, 24.096875, 24.096875,\n",
              "        24.096875, 24.096875, 24.096875, 24.096875, 24.096875, 24.096875,\n",
              "        24.096875, 24.096875, 24.096875, 24.096875, 24.096875, 24.096875,\n",
              "        24.096875, 24.096875, 24.096875, 24.096875, 24.096875, 24.096875,\n",
              "        24.096875, 24.096875, 24.096875, 24.096875, 24.096875, 24.096875,\n",
              "        24.096875, 24.096875],\n",
              "       [25.05    , 25.05    , 25.05    , 25.05    , 25.05    , 25.05    ,\n",
              "        25.05    , 25.05    , 25.05    , 25.05    , 25.05    , 25.05    ,\n",
              "        25.05    , 25.05    , 25.05    , 25.05    , 25.05    , 25.05    ,\n",
              "        25.05    , 25.05    , 25.05    , 25.05    , 25.05    , 25.05    ,\n",
              "        25.05    , 25.05    , 25.05    , 25.05    , 25.05    , 25.05    ,\n",
              "        25.05    , 25.05    ],\n",
              "       [25.971875, 25.971875, 25.971875, 25.971875, 25.971875, 25.971875,\n",
              "        25.971875, 25.971875, 25.971875, 25.971875, 25.971875, 25.971875,\n",
              "        25.971875, 25.971875, 25.971875, 25.971875, 25.971875, 25.971875,\n",
              "        25.971875, 25.971875, 25.971875, 25.971875, 25.971875, 25.971875,\n",
              "        25.971875, 25.971875, 25.971875, 25.971875, 25.971875, 25.971875,\n",
              "        25.971875, 25.971875],\n",
              "       [27.065625, 27.065625, 27.065625, 27.065625, 27.065625, 27.065625,\n",
              "        27.065625, 27.065625, 27.065625, 27.065625, 27.065625, 27.065625,\n",
              "        27.065625, 27.065625, 27.065625, 27.065625, 27.065625, 27.065625,\n",
              "        27.065625, 27.065625, 27.065625, 27.065625, 27.065625, 27.065625,\n",
              "        27.065625, 27.065625, 27.065625, 27.065625, 27.065625, 27.065625,\n",
              "        27.065625, 27.065625],\n",
              "       [27.85625 , 27.85625 , 27.85625 , 27.85625 , 27.85625 , 27.85625 ,\n",
              "        27.85625 , 27.85625 , 27.85625 , 27.85625 , 27.85625 , 27.85625 ,\n",
              "        27.85625 , 27.85625 , 27.85625 , 27.85625 , 27.85625 , 27.85625 ,\n",
              "        27.85625 , 27.85625 , 27.85625 , 27.85625 , 27.85625 , 27.85625 ,\n",
              "        27.85625 , 27.85625 , 27.85625 , 27.85625 , 27.85625 , 27.85625 ,\n",
              "        27.85625 , 27.85625 ],\n",
              "       [28.753125, 28.753125, 28.753125, 28.753125, 28.753125, 28.753125,\n",
              "        28.753125, 28.753125, 28.753125, 28.753125, 28.753125, 28.753125,\n",
              "        28.753125, 28.753125, 28.753125, 28.753125, 28.753125, 28.753125,\n",
              "        28.753125, 28.753125, 28.753125, 28.753125, 28.753125, 28.753125,\n",
              "        28.753125, 28.753125, 28.753125, 28.753125, 28.753125, 28.753125,\n",
              "        28.753125, 28.753125],\n",
              "       [29.675   , 29.675   , 29.675   , 29.675   , 29.675   , 29.675   ,\n",
              "        29.675   , 29.675   , 29.675   , 29.675   , 29.675   , 29.675   ,\n",
              "        29.675   , 29.675   , 29.675   , 29.675   , 29.675   , 29.675   ,\n",
              "        29.675   , 29.675   , 29.675   , 29.675   , 29.675   , 29.675   ,\n",
              "        29.675   , 29.675   , 29.675   , 29.675   , 29.675   , 29.675   ,\n",
              "        29.675   , 29.675   ],\n",
              "       [30.11875 , 30.11875 , 30.11875 , 30.11875 , 30.11875 , 30.11875 ,\n",
              "        30.11875 , 30.11875 , 30.11875 , 30.11875 , 30.11875 , 30.11875 ,\n",
              "        30.11875 , 30.11875 , 30.11875 , 30.11875 , 30.11875 , 30.11875 ,\n",
              "        30.11875 , 30.11875 , 30.11875 , 30.11875 , 30.11875 , 30.11875 ,\n",
              "        30.11875 , 30.11875 , 30.11875 , 30.11875 , 30.11875 , 30.11875 ,\n",
              "        30.11875 , 30.11875 ],\n",
              "       [30.83125 , 30.83125 , 30.83125 , 30.83125 , 30.83125 , 30.83125 ,\n",
              "        30.83125 , 30.83125 , 30.83125 , 30.83125 , 30.83125 , 30.83125 ,\n",
              "        30.83125 , 30.83125 , 30.83125 , 30.83125 , 30.83125 , 30.83125 ,\n",
              "        30.83125 , 30.83125 , 30.83125 , 30.83125 , 30.83125 , 30.83125 ,\n",
              "        30.83125 , 30.83125 , 30.83125 , 30.83125 , 30.83125 , 30.83125 ,\n",
              "        30.83125 , 30.83125 ],\n",
              "       [31.671875, 31.671875, 31.671875, 31.671875, 31.671875, 31.671875,\n",
              "        31.671875, 31.671875, 31.671875, 31.671875, 31.671875, 31.671875,\n",
              "        31.671875, 31.671875, 31.671875, 31.671875, 31.671875, 31.671875,\n",
              "        31.671875, 31.671875, 31.671875, 31.671875, 31.671875, 31.671875,\n",
              "        31.671875, 31.671875, 31.671875, 31.671875, 31.671875, 31.671875,\n",
              "        31.671875, 31.671875],\n",
              "       [32.465625, 32.465625, 32.465625, 32.465625, 32.465625, 32.465625,\n",
              "        32.465625, 32.465625, 32.465625, 32.465625, 32.465625, 32.465625,\n",
              "        32.465625, 32.465625, 32.465625, 32.465625, 32.465625, 32.465625,\n",
              "        32.465625, 32.465625, 32.465625, 32.465625, 32.465625, 32.465625,\n",
              "        32.465625, 32.465625, 32.465625, 32.465625, 32.465625, 32.465625,\n",
              "        32.465625, 32.465625],\n",
              "       [33.084375, 33.084375, 33.084375, 33.084375, 33.084375, 33.084375,\n",
              "        33.084375, 33.084375, 33.084375, 33.084375, 33.084375, 33.084375,\n",
              "        33.084375, 33.084375, 33.084375, 33.084375, 33.084375, 33.084375,\n",
              "        33.084375, 33.084375, 33.084375, 33.084375, 33.084375, 33.084375,\n",
              "        33.084375, 33.084375, 33.084375, 33.084375, 33.084375, 33.084375,\n",
              "        33.084375, 33.084375],\n",
              "       [33.790625, 33.790625, 33.790625, 33.790625, 33.790625, 33.790625,\n",
              "        33.790625, 33.790625, 33.790625, 33.790625, 33.790625, 33.790625,\n",
              "        33.790625, 33.790625, 33.790625, 33.790625, 33.790625, 33.790625,\n",
              "        33.790625, 33.790625, 33.790625, 33.790625, 33.790625, 33.790625,\n",
              "        33.790625, 33.790625, 33.790625, 33.790625, 33.790625, 33.790625,\n",
              "        33.790625, 33.790625],\n",
              "       [34.415625, 34.415625, 34.415625, 34.415625, 34.415625, 34.415625,\n",
              "        34.415625, 34.415625, 34.415625, 34.415625, 34.415625, 34.415625,\n",
              "        34.415625, 34.415625, 34.415625, 34.415625, 34.415625, 34.415625,\n",
              "        34.415625, 34.415625, 34.415625, 34.415625, 34.415625, 34.415625,\n",
              "        34.415625, 34.415625, 34.415625, 34.415625, 34.415625, 34.415625,\n",
              "        34.415625, 34.415625],\n",
              "       [35.1875  , 35.1875  , 35.1875  , 35.1875  , 35.1875  , 35.1875  ,\n",
              "        35.1875  , 35.1875  , 35.1875  , 35.1875  , 35.1875  , 35.1875  ,\n",
              "        35.1875  , 35.1875  , 35.1875  , 35.1875  , 35.1875  , 35.1875  ,\n",
              "        35.1875  , 35.1875  , 35.1875  , 35.1875  , 35.1875  , 35.1875  ,\n",
              "        35.1875  , 35.1875  , 35.1875  , 35.1875  , 35.1875  , 35.1875  ,\n",
              "        35.1875  , 35.1875  ],\n",
              "       [36.040625, 36.040625, 36.040625, 36.040625, 36.040625, 36.040625,\n",
              "        36.040625, 36.040625, 36.040625, 36.040625, 36.040625, 36.040625,\n",
              "        36.040625, 36.040625, 36.040625, 36.040625, 36.040625, 36.040625,\n",
              "        36.040625, 36.040625, 36.040625, 36.040625, 36.040625, 36.040625,\n",
              "        36.040625, 36.040625, 36.040625, 36.040625, 36.040625, 36.040625,\n",
              "        36.040625, 36.040625],\n",
              "       [37.096875, 37.096875, 37.096875, 37.096875, 37.096875, 37.096875,\n",
              "        37.096875, 37.096875, 37.096875, 37.096875, 37.096875, 37.096875,\n",
              "        37.096875, 37.096875, 37.096875, 37.096875, 37.096875, 37.096875,\n",
              "        37.096875, 37.096875, 37.096875, 37.096875, 37.096875, 37.096875,\n",
              "        37.096875, 37.096875, 37.096875, 37.096875, 37.096875, 37.096875,\n",
              "        37.096875, 37.096875],\n",
              "       [38.175   , 38.175   , 38.175   , 38.175   , 38.175   , 38.175   ,\n",
              "        38.175   , 38.175   , 38.175   , 38.175   , 38.175   , 38.175   ,\n",
              "        38.175   , 38.175   , 38.175   , 38.175   , 38.175   , 38.175   ,\n",
              "        38.175   , 38.175   , 38.175   , 38.175   , 38.175   , 38.175   ,\n",
              "        38.175   , 38.175   , 38.175   , 38.175   , 38.175   , 38.175   ,\n",
              "        38.175   , 38.175   ],\n",
              "       [39.396875, 39.396875, 39.396875, 39.396875, 39.396875, 39.396875,\n",
              "        39.396875, 39.396875, 39.396875, 39.396875, 39.396875, 39.396875,\n",
              "        39.396875, 39.396875, 39.396875, 39.396875, 39.396875, 39.396875,\n",
              "        39.396875, 39.396875, 39.396875, 39.396875, 39.396875, 39.396875,\n",
              "        39.396875, 39.396875, 39.396875, 39.396875, 39.396875, 39.396875,\n",
              "        39.396875, 39.396875],\n",
              "       [41.359375, 41.359375, 41.359375, 41.359375, 41.359375, 41.359375,\n",
              "        41.359375, 41.359375, 41.359375, 41.359375, 41.359375, 41.359375,\n",
              "        41.359375, 41.359375, 41.359375, 41.359375, 41.359375, 41.359375,\n",
              "        41.359375, 41.359375, 41.359375, 41.359375, 41.359375, 41.359375,\n",
              "        41.359375, 41.359375, 41.359375, 41.359375, 41.359375, 41.359375,\n",
              "        41.359375, 41.359375],\n",
              "       [43.703125, 43.703125, 43.703125, 43.703125, 43.703125, 43.703125,\n",
              "        43.703125, 43.703125, 43.703125, 43.703125, 43.703125, 43.703125,\n",
              "        43.703125, 43.703125, 43.703125, 43.703125, 43.703125, 43.703125,\n",
              "        43.703125, 43.703125, 43.703125, 43.703125, 43.703125, 43.703125,\n",
              "        43.703125, 43.703125, 43.703125, 43.703125, 43.703125, 43.703125,\n",
              "        43.703125, 43.703125],\n",
              "       [49.3     , 49.3     , 49.3     , 49.3     , 49.3     , 49.3     ,\n",
              "        49.3     , 49.3     , 49.3     , 49.3     , 49.3     , 49.3     ,\n",
              "        49.3     , 49.3     , 49.3     , 49.3     , 49.3     , 49.3     ,\n",
              "        49.3     , 49.3     , 49.3     , 49.3     , 49.3     , 49.3     ,\n",
              "        49.3     , 49.3     , 49.3     , 49.3     , 49.3     , 49.3     ,\n",
              "        49.3     , 49.3     ]])"
            ]
          },
          "metadata": {},
          "execution_count": 40
        }
      ]
    }
  ]
}