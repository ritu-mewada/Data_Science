{
  "cells": [
    {
      "cell_type": "markdown",
      "source": [
        "# **IMPLIMENTATION OF IMPUATATION TECHNIQUES**"
      ],
      "metadata": {
        "id": "eBDrj-ZVuEbR"
      },
      "id": "eBDrj-ZVuEbR"
    },
    {
      "cell_type": "markdown",
      "id": "27d4136f",
      "metadata": {
        "id": "27d4136f"
      },
      "source": [
        "Importing Libraries"
      ]
    },
    {
      "cell_type": "code",
      "source": [
        "import pandas as pd"
      ],
      "metadata": {
        "id": "pdOVgQ8ObR3X"
      },
      "id": "pdOVgQ8ObR3X",
      "execution_count": null,
      "outputs": []
    },
    {
      "cell_type": "markdown",
      "source": [
        "Reading csv file"
      ],
      "metadata": {
        "id": "dAVzuffZbK5i"
      },
      "id": "dAVzuffZbK5i"
    },
    {
      "cell_type": "code",
      "execution_count": null,
      "id": "f842b162",
      "metadata": {
        "id": "f842b162",
        "outputId": "0c395b1f-1515-47e7-d623-5098c019ea84"
      },
      "outputs": [
        {
          "name": "stdout",
          "output_type": "stream",
          "text": [
            "    Age  Salary\n",
            "0    22    50.0\n",
            "1    23    60.0\n",
            "2    21    55.0\n",
            "3    22    56.0\n",
            "4    24     NaN\n",
            "5    23    70.0\n",
            "6    25    55.0\n",
            "7    21    60.0\n",
            "8    20    70.0\n",
            "9    25    55.0\n",
            "10   24    50.0\n",
            "11   23    60.0\n",
            "12   24    65.0\n",
            "13   23    75.0\n",
            "14   25    70.0\n",
            "15   21    55.0\n",
            "16   20    70.0\n",
            "17   23    55.0\n",
            "18   21    50.0\n",
            "19   22     NaN\n"
          ]
        }
      ],
      "source": [
        "df = pd.read_csv('Sample_dataset.csv')\n",
        "print(df)"
      ]
    },
    {
      "cell_type": "markdown",
      "id": "edaec7a1",
      "metadata": {
        "id": "edaec7a1"
      },
      "source": [
        "Handling missing values with mean"
      ]
    },
    {
      "cell_type": "code",
      "execution_count": null,
      "id": "d1bdb4c4",
      "metadata": {
        "id": "d1bdb4c4",
        "outputId": "6c0f7a17-9d1c-430f-aa86-61cfe459f280"
      },
      "outputs": [
        {
          "name": "stdout",
          "output_type": "stream",
          "text": [
            "    Age  Salary\n",
            "0    22    50.0\n",
            "1    23    60.0\n",
            "2    21    55.0\n",
            "3    22    56.0\n",
            "4    24    22.6\n",
            "5    23    70.0\n",
            "6    25    55.0\n",
            "7    21    60.0\n",
            "8    20    70.0\n",
            "9    25    55.0\n",
            "10   24    50.0\n",
            "11   23    60.0\n",
            "12   24    65.0\n",
            "13   23    75.0\n",
            "14   25    70.0\n",
            "15   21    55.0\n",
            "16   20    70.0\n",
            "17   23    55.0\n",
            "18   21    50.0\n",
            "19   22    22.6\n"
          ]
        }
      ],
      "source": [
        "df1 = df.fillna(df.mean().iloc[0])\n",
        "print(df1)"
      ]
    },
    {
      "cell_type": "markdown",
      "id": "44bdd89b",
      "metadata": {
        "id": "44bdd89b"
      },
      "source": [
        "Handling missing values with User Define constant"
      ]
    },
    {
      "cell_type": "code",
      "execution_count": null,
      "id": "511ab14a",
      "metadata": {
        "id": "511ab14a",
        "outputId": "83c7b19c-cb7f-46bb-fb39-7cdb11182636"
      },
      "outputs": [
        {
          "name": "stdout",
          "output_type": "stream",
          "text": [
            "    Age  Salary\n",
            "0    22    50.0\n",
            "1    23    60.0\n",
            "2    21    55.0\n",
            "3    22    56.0\n",
            "4    24    37.0\n",
            "5    23    70.0\n",
            "6    25    55.0\n",
            "7    21    60.0\n",
            "8    20    70.0\n",
            "9    25    55.0\n",
            "10   24    50.0\n",
            "11   23    60.0\n",
            "12   24    65.0\n",
            "13   23    75.0\n",
            "14   25    70.0\n",
            "15   21    55.0\n",
            "16   20    70.0\n",
            "17   23    55.0\n",
            "18   21    50.0\n",
            "19   22    37.0\n"
          ]
        }
      ],
      "source": [
        "constant = 37.0\n",
        "df2 = df.fillna(constant)\n",
        "print(df2)"
      ]
    }
  ],
  "metadata": {
    "kernelspec": {
      "display_name": "Python 3 (ipykernel)",
      "language": "python",
      "name": "python3"
    },
    "language_info": {
      "codemirror_mode": {
        "name": "ipython",
        "version": 3
      },
      "file_extension": ".py",
      "mimetype": "text/x-python",
      "name": "python",
      "nbconvert_exporter": "python",
      "pygments_lexer": "ipython3",
      "version": "3.9.6"
    },
    "colab": {
      "name": "Normalization.ipynb",
      "provenance": [],
      "collapsed_sections": []
    }
  },
  "nbformat": 4,
  "nbformat_minor": 5
}