{
  "nbformat": 4,
  "nbformat_minor": 0,
  "metadata": {
    "colab": {
      "name": "Linear Regression.ipynb",
      "provenance": []
    },
    "kernelspec": {
      "name": "python3",
      "display_name": "Python 3"
    },
    "language_info": {
      "name": "python"
    }
  },
  "cells": [
    {
      "cell_type": "markdown",
      "source": [
        "Importing required modules"
      ],
      "metadata": {
        "id": "3k0F1h3IkO28"
      }
    },
    {
      "cell_type": "code",
      "metadata": {
        "id": "YMvYaTGS-cLl"
      },
      "source": [
        "import pandas as pd\n",
        "from sklearn.model_selection import train_test_split"
      ],
      "execution_count": 1,
      "outputs": []
    },
    {
      "cell_type": "markdown",
      "source": [
        "Reading the csv file"
      ],
      "metadata": {
        "id": "htIF-ylMkVPd"
      }
    },
    {
      "cell_type": "code",
      "metadata": {
        "colab": {
          "base_uri": "https://localhost:8080/"
        },
        "id": "Mp_TyxHEAkzx",
        "outputId": "585df8e4-d8b0-496c-ff54-1eba72555039"
      },
      "source": [
        "df = pd.read_csv('data.csv')\n",
        "df.info()"
      ],
      "execution_count": 2,
      "outputs": [
        {
          "output_type": "stream",
          "name": "stdout",
          "text": [
            "<class 'pandas.core.frame.DataFrame'>\n",
            "RangeIndex: 15 entries, 0 to 14\n",
            "Data columns (total 2 columns):\n",
            " #   Column  Non-Null Count  Dtype  \n",
            "---  ------  --------------  -----  \n",
            " 0   Height  15 non-null     float64\n",
            " 1   Weight  15 non-null     float64\n",
            "dtypes: float64(2)\n",
            "memory usage: 368.0 bytes\n"
          ]
        }
      ]
    },
    {
      "cell_type": "code",
      "metadata": {
        "id": "oHmVxIJrA4aP"
      },
      "source": [
        "h = df[['Height']]\n",
        "w = df[['Weight']]                            "
      ],
      "execution_count": 3,
      "outputs": []
    },
    {
      "cell_type": "markdown",
      "source": [
        "Splitting the data into 70% training data and 30% test data "
      ],
      "metadata": {
        "id": "6xKR1UgQkaNJ"
      }
    },
    {
      "cell_type": "code",
      "metadata": {
        "id": "F7--2kWzBG2l"
      },
      "source": [
        "h_train, h_test, w_train, w_test = train_test_split(h, w, test_size = 0.30) "
      ],
      "execution_count": 4,
      "outputs": []
    },
    {
      "cell_type": "code",
      "metadata": {
        "colab": {
          "base_uri": "https://localhost:8080/"
        },
        "id": "XMr7pgGWLLH7",
        "outputId": "b0654c63-1296-433e-ac79-6c6ed6876699"
      },
      "source": [
        "print(h_train)"
      ],
      "execution_count": 5,
      "outputs": [
        {
          "output_type": "stream",
          "name": "stdout",
          "text": [
            "    Height\n",
            "9     1.70\n",
            "11    1.75\n",
            "2     1.52\n",
            "0     1.47\n",
            "4     1.57\n",
            "1     1.50\n",
            "13    1.80\n",
            "6     1.63\n",
            "3     1.55\n",
            "12    1.78\n"
          ]
        }
      ]
    },
    {
      "cell_type": "code",
      "metadata": {
        "colab": {
          "base_uri": "https://localhost:8080/"
        },
        "id": "6jDiPF3nLvCz",
        "outputId": "84ca1872-0f1c-431b-9185-d580e691ad36"
      },
      "source": [
        "print(h_test)"
      ],
      "execution_count": 6,
      "outputs": [
        {
          "output_type": "stream",
          "name": "stdout",
          "text": [
            "    Height\n",
            "14    1.83\n",
            "10    1.73\n",
            "5     1.60\n",
            "8     1.68\n",
            "7     1.65\n"
          ]
        }
      ]
    },
    {
      "cell_type": "code",
      "metadata": {
        "id": "4HkXtJCtCDqV"
      },
      "source": [
        "from sklearn import linear_model as lm"
      ],
      "execution_count": 7,
      "outputs": []
    },
    {
      "cell_type": "markdown",
      "source": [
        "Importing Linear Regression model"
      ],
      "metadata": {
        "id": "Xb3hgj6Bkqqp"
      }
    },
    {
      "cell_type": "code",
      "metadata": {
        "id": "17Qd9bqRCTQy"
      },
      "source": [
        "regressor = lm.LinearRegression()\n",
        "model = regressor.fit(h_train, w_train)"
      ],
      "execution_count": 8,
      "outputs": []
    },
    {
      "cell_type": "markdown",
      "source": [
        "Intercection of regression line"
      ],
      "metadata": {
        "id": "NCR7vjeWbc0A"
      }
    },
    {
      "cell_type": "code",
      "metadata": {
        "colab": {
          "base_uri": "https://localhost:8080/"
        },
        "id": "FDng8pG3CpkY",
        "outputId": "4ab42382-0447-40fa-d4be-9baf822ea5a4"
      },
      "source": [
        "model.intercept_"
      ],
      "execution_count": 9,
      "outputs": [
        {
          "output_type": "execute_result",
          "data": {
            "text/plain": [
              "array([-36.91948525])"
            ]
          },
          "metadata": {},
          "execution_count": 9
        }
      ]
    },
    {
      "cell_type": "markdown",
      "source": [
        "Slope of the regression line"
      ],
      "metadata": {
        "id": "q6DHMXNvbh-8"
      }
    },
    {
      "cell_type": "code",
      "metadata": {
        "colab": {
          "base_uri": "https://localhost:8080/"
        },
        "id": "G7-fqTmzCv24",
        "outputId": "4ce7df81-673c-4400-f821-cd5d9951b4ab"
      },
      "source": [
        "model.coef_"
      ],
      "execution_count": 10,
      "outputs": [
        {
          "output_type": "execute_result",
          "data": {
            "text/plain": [
              "array([[60.02795651]])"
            ]
          },
          "metadata": {},
          "execution_count": 10
        }
      ]
    },
    {
      "cell_type": "markdown",
      "source": [
        "Predicting the result for testing data"
      ],
      "metadata": {
        "id": "TOzOfGQ9blyO"
      }
    },
    {
      "cell_type": "code",
      "metadata": {
        "colab": {
          "base_uri": "https://localhost:8080/"
        },
        "id": "hlCuIcsEFTCX",
        "outputId": "65d4349f-a734-4999-f7d9-61ab2a168c03"
      },
      "source": [
        "W_predicted = regressor.predict(h_test)\n",
        "print(W_predicted)"
      ],
      "execution_count": 11,
      "outputs": [
        {
          "output_type": "stream",
          "name": "stdout",
          "text": [
            "[[72.93167517]\n",
            " [66.92887952]\n",
            " [59.12524517]\n",
            " [63.9274817 ]\n",
            " [62.126643  ]]\n"
          ]
        }
      ]
    },
    {
      "cell_type": "code",
      "metadata": {
        "colab": {
          "base_uri": "https://localhost:8080/"
        },
        "id": "7r8FVFJWFhpL",
        "outputId": "20f0aeba-f897-4753-f6ce-4ee0ed2d76ad"
      },
      "source": [
        "print(w_test)"
      ],
      "execution_count": 12,
      "outputs": [
        {
          "output_type": "stream",
          "name": "stdout",
          "text": [
            "    Weight\n",
            "14   74.46\n",
            "10   66.28\n",
            "5    58.57\n",
            "8    63.11\n",
            "7    61.29\n"
          ]
        }
      ]
    },
    {
      "cell_type": "markdown",
      "source": [
        "Calculating mean squared error and r2 score"
      ],
      "metadata": {
        "id": "Nu8PJ5ldbsAC"
      }
    },
    {
      "cell_type": "code",
      "metadata": {
        "colab": {
          "base_uri": "https://localhost:8080/"
        },
        "id": "WN1fl6xsFnKL",
        "outputId": "85768268-52ea-4e16-b95d-8f181be8cb1f"
      },
      "source": [
        "from sklearn.metrics import mean_squared_error, r2_score\n",
        "mean_squared_error(w_test, W_predicted)"
      ],
      "execution_count": 13,
      "outputs": [
        {
          "output_type": "execute_result",
          "data": {
            "text/plain": [
              "0.886673289374705"
            ]
          },
          "metadata": {},
          "execution_count": 13
        }
      ]
    },
    {
      "cell_type": "code",
      "metadata": {
        "colab": {
          "base_uri": "https://localhost:8080/"
        },
        "id": "gvxc4JwRF9k6",
        "outputId": "b9560f7f-44b7-4d0a-a669-f11f84038441"
      },
      "source": [
        "r2_score(w_test, W_predicted)"
      ],
      "execution_count": 14,
      "outputs": [
        {
          "output_type": "execute_result",
          "data": {
            "text/plain": [
              "0.9703410659603955"
            ]
          },
          "metadata": {},
          "execution_count": 14
        }
      ]
    },
    {
      "cell_type": "markdown",
      "source": [
        "Visualizing results"
      ],
      "metadata": {
        "id": "2Thw98kJbxqF"
      }
    },
    {
      "cell_type": "code",
      "metadata": {
        "id": "R-4Q0IMxGDpx"
      },
      "source": [
        "import matplotlib.pyplot as plt"
      ],
      "execution_count": 15,
      "outputs": []
    },
    {
      "cell_type": "code",
      "metadata": {
        "colab": {
          "base_uri": "https://localhost:8080/",
          "height": 265
        },
        "id": "XFr8xnF1GM0M",
        "outputId": "f637ffe4-8596-42e0-c2e0-c4385e99c74a"
      },
      "source": [
        "plt.scatter(h_test, w_test, color = 'red')\n",
        "plt.plot(h_test, W_predicted, color = 'black')\n",
        "plt.show()"
      ],
      "execution_count": 16,
      "outputs": [
        {
          "output_type": "display_data",
          "data": {
            "text/plain": [
              "<Figure size 432x288 with 1 Axes>"
            ],
            "image/png": "[encoded data removed]"
          },
          "metadata": {
            "needs_background": "light"
          }
        }
      ]
    }
  ]
}