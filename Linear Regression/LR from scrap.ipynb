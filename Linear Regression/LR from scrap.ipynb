{
  "cells": [
    {
      "cell_type": "code",
      "execution_count": null,
      "metadata": {
        "id": "AXKKdoiMQ28X"
      },
      "outputs": [],
      "source": [
        "from sklearn.linear_model import LinearRegression\n",
        "import numpy as np"
      ]
    },
    {
      "cell_type": "code",
      "execution_count": null,
      "metadata": {
        "colab": {
          "base_uri": "https://localhost:8080/"
        },
        "id": "3wiQ5wYmQ28d",
        "outputId": "4ae2e3c2-f3f9-4090-fafb-0cec0e0354bf"
      },
      "outputs": [
        {
          "output_type": "stream",
          "name": "stdout",
          "text": [
            "[[        nan         nan]\n",
            " [1.10000e+00 3.93430e+04]\n",
            " [1.30000e+00 4.62050e+04]\n",
            " [1.50000e+00 3.77310e+04]\n",
            " [2.00000e+00 4.35250e+04]\n",
            " [2.20000e+00 3.98910e+04]\n",
            " [2.90000e+00 5.66420e+04]\n",
            " [3.00000e+00 6.01500e+04]\n",
            " [3.20000e+00 5.44450e+04]\n",
            " [3.20000e+00 6.44450e+04]\n",
            " [3.70000e+00 5.71890e+04]\n",
            " [3.90000e+00 6.32180e+04]\n",
            " [4.00000e+00 5.57940e+04]\n",
            " [4.00000e+00 5.69570e+04]\n",
            " [4.10000e+00 5.70810e+04]\n",
            " [4.50000e+00 6.11110e+04]\n",
            " [4.90000e+00 6.79380e+04]\n",
            " [5.10000e+00 6.60290e+04]\n",
            " [5.30000e+00 8.30880e+04]\n",
            " [5.90000e+00 8.13630e+04]\n",
            " [6.00000e+00 9.39400e+04]\n",
            " [6.80000e+00 9.17380e+04]\n",
            " [7.10000e+00 9.82730e+04]\n",
            " [7.90000e+00 1.01302e+05]\n",
            " [8.20000e+00 1.13812e+05]\n",
            " [8.70000e+00 1.09431e+05]\n",
            " [9.00000e+00 1.05582e+05]\n",
            " [9.50000e+00 1.16969e+05]\n",
            " [9.60000e+00 1.12635e+05]\n",
            " [1.03000e+01 1.22391e+05]\n",
            " [1.05000e+01 1.21872e+05]]\n"
          ]
        }
      ],
      "source": [
        "my_data = np.genfromtxt('https://raw.githubusercontent.com/mahesh147/Simple-Linear-Regression/master/Salary_Data.csv', delimiter=',')\n",
        "print(my_data)"
      ]
    },
    {
      "cell_type": "code",
      "execution_count": null,
      "metadata": {
        "colab": {
          "base_uri": "https://localhost:8080/"
        },
        "id": "jOKBW2JNQ28h",
        "outputId": "204dc837-83cd-46e1-b41c-ccd51c0b62e4"
      },
      "outputs": [
        {
          "output_type": "stream",
          "name": "stdout",
          "text": [
            "[[ nan]\n",
            " [ 1.1]\n",
            " [ 1.3]\n",
            " [ 1.5]\n",
            " [ 2. ]\n",
            " [ 2.2]\n",
            " [ 2.9]\n",
            " [ 3. ]\n",
            " [ 3.2]\n",
            " [ 3.2]\n",
            " [ 3.7]\n",
            " [ 3.9]\n",
            " [ 4. ]\n",
            " [ 4. ]\n",
            " [ 4.1]\n",
            " [ 4.5]\n",
            " [ 4.9]\n",
            " [ 5.1]\n",
            " [ 5.3]\n",
            " [ 5.9]\n",
            " [ 6. ]\n",
            " [ 6.8]\n",
            " [ 7.1]\n",
            " [ 7.9]\n",
            " [ 8.2]\n",
            " [ 8.7]\n",
            " [ 9. ]\n",
            " [ 9.5]\n",
            " [ 9.6]\n",
            " [10.3]\n",
            " [10.5]] [[    nan]\n",
            " [ 39343.]\n",
            " [ 46205.]\n",
            " [ 37731.]\n",
            " [ 43525.]\n",
            " [ 39891.]\n",
            " [ 56642.]\n",
            " [ 60150.]\n",
            " [ 54445.]\n",
            " [ 64445.]\n",
            " [ 57189.]\n",
            " [ 63218.]\n",
            " [ 55794.]\n",
            " [ 56957.]\n",
            " [ 57081.]\n",
            " [ 61111.]\n",
            " [ 67938.]\n",
            " [ 66029.]\n",
            " [ 83088.]\n",
            " [ 81363.]\n",
            " [ 93940.]\n",
            " [ 91738.]\n",
            " [ 98273.]\n",
            " [101302.]\n",
            " [113812.]\n",
            " [109431.]\n",
            " [105582.]\n",
            " [116969.]\n",
            " [112635.]\n",
            " [122391.]\n",
            " [121872.]]\n"
          ]
        }
      ],
      "source": [
        "x, y = np.split(my_data, 2, 1)\n",
        "print(x,y)"
      ]
    },
    {
      "cell_type": "code",
      "execution_count": null,
      "metadata": {
        "id": "QvOrovBgQ28j"
      },
      "outputs": [],
      "source": [
        "from sklearn.model_selection import train_test_split\n",
        "X_train, X_test, y_train, y_test = train_test_split(x, y, test_size=0.3)"
      ]
    },
    {
      "cell_type": "code",
      "execution_count": null,
      "metadata": {
        "colab": {
          "base_uri": "https://localhost:8080/"
        },
        "id": "C_ehT4avQ28k",
        "outputId": "639ce34a-cdf0-4353-9b1e-8ce41d8de84e"
      },
      "outputs": [
        {
          "output_type": "stream",
          "name": "stdout",
          "text": [
            "[9677.34049923]\n"
          ]
        }
      ],
      "source": [
        "sum_xy = 0;\n",
        "index = 0\n",
        "\n",
        "for f in X_train:\n",
        "    sum_xy += f*y_train[index]\n",
        "    index += 1\n",
        "\n",
        "avg_slope = (index*(sum_xy) - (sum(X_train)*sum(y_train)))/((index*sum(pow(X_train, 2))) - pow(sum(X_train), 2))\n",
        "print(avg_slope)"
      ]
    },
    {
      "cell_type": "code",
      "execution_count": null,
      "metadata": {
        "colab": {
          "base_uri": "https://localhost:8080/"
        },
        "id": "Hf1TwzQ5Q28l",
        "outputId": "ffa2c09d-e174-4a5c-c940-e757622257f9"
      },
      "outputs": [
        {
          "output_type": "stream",
          "name": "stdout",
          "text": [
            "[24639.34508994]\n"
          ]
        }
      ],
      "source": [
        "sum_intercept = 0\n",
        "\n",
        "avg_intercept = ((sum(y_train)*sum(pow(X_train, 2))-(sum(X_train)*sum_xy)))/((index*sum(pow(X_train, 2))) - pow(sum(X_train), 2))\n",
        "print(avg_intercept)"
      ]
    },
    {
      "cell_type": "code",
      "execution_count": null,
      "metadata": {
        "colab": {
          "base_uri": "https://localhost:8080/",
          "height": 282
        },
        "id": "gkmfooo9Q28m",
        "outputId": "788800f1-5974-40f4-b0c6-fc85b15df85b"
      },
      "outputs": [
        {
          "output_type": "execute_result",
          "data": {
            "text/plain": [
              "[]"
            ]
          },
          "metadata": {},
          "execution_count": 21
        },
        {
          "output_type": "display_data",
          "data": {
            "text/plain": [
              "<Figure size 432x288 with 1 Axes>"
            ],
            "image/png": "[encoded data removed]"
          },
          "metadata": {
            "needs_background": "light"
          }
        }
      ],
      "source": [
        "import matplotlib.pyplot as plt\n",
        "\n",
        "plt.scatter( X_test, y_test, color='blue')\n",
        "plt.plot(X_test, ((avg_slope*X_test) + avg_intercept), color='green')\n",
        "plt.plot()"
      ]
    }
  ],
  "metadata": {
    "interpreter": {
      "hash": "db096369804cf06da93227288eb09070af8c5111df52c5d27f66e3c50ba6e774"
    },
    "kernelspec": {
      "display_name": "Python 3.9.12 64-bit (windows store)",
      "language": "python",
      "name": "python3"
    },
    "language_info": {
      "codemirror_mode": {
        "name": "ipython",
        "version": 3
      },
      "file_extension": ".py",
      "mimetype": "text/x-python",
      "name": "python",
      "nbconvert_exporter": "python",
      "pygments_lexer": "ipython3",
      "version": "3.9.12"
    },
    "orig_nbformat": 4,
    "colab": {
      "name": "prac10.ipynb",
      "provenance": []
    }
  },
  "nbformat": 4,
  "nbformat_minor": 0
}