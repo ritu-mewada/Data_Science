{
  "cells": [
    {
      "cell_type": "markdown",
      "source": [
        "# **IMPLIMENTATION OF NORMALIZATION TECHNIQUES**"
      ],
      "metadata": {
        "id": "eBDrj-ZVuEbR"
      },
      "id": "eBDrj-ZVuEbR"
    },
    {
      "cell_type": "markdown",
      "source": [
        "## **MinMax Normalization**"
      ],
      "metadata": {
        "id": "hMVnmbh3NiuV"
      },
      "id": "hMVnmbh3NiuV"
    },
    {
      "cell_type": "markdown",
      "id": "27d4136f",
      "metadata": {
        "id": "27d4136f"
      },
      "source": [
        "Importing Libraries"
      ]
    },
    {
      "cell_type": "code",
      "execution_count": 1,
      "id": "a6ffd188",
      "metadata": {
        "id": "a6ffd188"
      },
      "outputs": [],
      "source": [
        "import numpy as np"
      ]
    },
    {
      "cell_type": "markdown",
      "id": "14c2c1d3",
      "metadata": {
        "id": "14c2c1d3"
      },
      "source": [
        "Initializing array"
      ]
    },
    {
      "cell_type": "code",
      "execution_count": 2,
      "id": "b908dcc8",
      "metadata": {
        "id": "b908dcc8",
        "outputId": "a3b230c1-6e3d-4560-86e2-47c6bc7e50db",
        "colab": {
          "base_uri": "https://localhost:8080/"
        }
      },
      "outputs": [
        {
          "output_type": "stream",
          "name": "stdout",
          "text": [
            "[[ 4  2]\n",
            " [ 2  4]\n",
            " [ 6  5]\n",
            " [ 0  8]\n",
            " [12  3]\n",
            " [14 10]\n",
            " [ 6 14]\n",
            " [18  6]]\n"
          ]
        }
      ],
      "source": [
        "arr = np.array([[4,2], [2,4], [6,5], [0,8], [12, 3], [14,10], [6,14], [18,6]])\n",
        "print(arr)"
      ]
    },
    {
      "cell_type": "markdown",
      "id": "3b68fa6c",
      "metadata": {
        "id": "3b68fa6c"
      },
      "source": [
        "Using Min Max Scalar from sklearn library"
      ]
    },
    {
      "cell_type": "code",
      "execution_count": 3,
      "id": "6e8deffe",
      "metadata": {
        "id": "6e8deffe"
      },
      "outputs": [],
      "source": [
        "from sklearn.preprocessing import MinMaxScaler"
      ]
    },
    {
      "cell_type": "code",
      "execution_count": 4,
      "id": "316e4e36",
      "metadata": {
        "id": "316e4e36",
        "outputId": "c86ae76d-c4cd-4991-9b03-314d248c2ec2",
        "colab": {
          "base_uri": "https://localhost:8080/"
        }
      },
      "outputs": [
        {
          "output_type": "stream",
          "name": "stdout",
          "text": [
            "[[0.22222222 0.        ]\n",
            " [0.11111111 0.16666667]\n",
            " [0.33333333 0.25      ]\n",
            " [0.         0.5       ]\n",
            " [0.66666667 0.08333333]\n",
            " [0.77777778 0.66666667]\n",
            " [0.33333333 1.        ]\n",
            " [1.         0.33333333]]\n"
          ]
        }
      ],
      "source": [
        "min_max = MinMaxScaler()\n",
        "result = min_max.fit_transform(arr)\n",
        "print(result)"
      ]
    },
    {
      "cell_type": "markdown",
      "id": "bf483846",
      "metadata": {
        "id": "bf483846"
      },
      "source": [
        "Defining function to perform min max normalization"
      ]
    },
    {
      "cell_type": "code",
      "execution_count": 5,
      "id": "4b9ec416",
      "metadata": {
        "id": "4b9ec416"
      },
      "outputs": [],
      "source": [
        "def Min_Max(a):\n",
        "    return (a - np.min(a)) / (np.max(a) - np.min(a))"
      ]
    },
    {
      "cell_type": "markdown",
      "id": "68882af9",
      "metadata": {
        "id": "68882af9"
      },
      "source": [
        "Min Max Normalization using Min_Max function"
      ]
    },
    {
      "cell_type": "code",
      "execution_count": 6,
      "id": "5aad4a04",
      "metadata": {
        "id": "5aad4a04",
        "outputId": "e45d05bd-2b21-4a7d-b546-7ee2072bff2d",
        "colab": {
          "base_uri": "https://localhost:8080/"
        }
      },
      "outputs": [
        {
          "output_type": "stream",
          "name": "stdout",
          "text": [
            "[[0.22222222 0.11111111]\n",
            " [0.11111111 0.22222222]\n",
            " [0.33333333 0.27777778]\n",
            " [0.         0.44444444]\n",
            " [0.66666667 0.16666667]\n",
            " [0.77777778 0.55555556]\n",
            " [0.33333333 0.77777778]\n",
            " [1.         0.33333333]]\n"
          ]
        }
      ],
      "source": [
        "result_1 = Min_Max(arr)\n",
        "print(result_1)"
      ]
    },
    {
      "cell_type": "markdown",
      "source": [
        "##**Z-Score Normalization**"
      ],
      "metadata": {
        "id": "Jlf0bHFtNbSt"
      },
      "id": "Jlf0bHFtNbSt"
    },
    {
      "cell_type": "markdown",
      "id": "4195a8bf",
      "metadata": {
        "id": "4195a8bf"
      },
      "source": [
        "z-score normalization using states library"
      ]
    },
    {
      "cell_type": "code",
      "execution_count": 7,
      "id": "e1616ba2",
      "metadata": {
        "id": "e1616ba2"
      },
      "outputs": [],
      "source": [
        "from scipy.stats import zscore\n",
        "import math"
      ]
    },
    {
      "cell_type": "markdown",
      "id": "7cf4c62d",
      "metadata": {
        "id": "7cf4c62d"
      },
      "source": [
        "Initializing array"
      ]
    },
    {
      "cell_type": "code",
      "execution_count": 8,
      "id": "26cd09f3",
      "metadata": {
        "id": "26cd09f3",
        "outputId": "195fb32e-c62b-4619-d11a-a88c67e89811",
        "colab": {
          "base_uri": "https://localhost:8080/"
        }
      },
      "outputs": [
        {
          "output_type": "stream",
          "name": "stdout",
          "text": [
            "[5, 26, 8, 5, 4, 6, 7, 12, 23, 14]\n"
          ]
        }
      ],
      "source": [
        "arr1 = [5,26,8,5,4,6,7,12,23,14]\n",
        "print(arr1)"
      ]
    },
    {
      "cell_type": "code",
      "execution_count": 9,
      "id": "e5fd53a5",
      "metadata": {
        "id": "e5fd53a5",
        "outputId": "b2fedfc3-627f-4884-9299-aafee035a4e2",
        "colab": {
          "base_uri": "https://localhost:8080/"
        }
      },
      "outputs": [
        {
          "output_type": "stream",
          "name": "stdout",
          "text": [
            "[-0.80903983  2.02259959 -0.40451992 -0.80903983 -0.94387981 -0.67419986\n",
            " -0.53935989  0.13483997  1.61807967  0.40451992]\n"
          ]
        }
      ],
      "source": [
        "result = zscore(arr1)\n",
        "print(result)"
      ]
    },
    {
      "cell_type": "markdown",
      "id": "14a84f9b",
      "metadata": {
        "id": "14a84f9b"
      },
      "source": [
        "Defining function for z-score"
      ]
    },
    {
      "cell_type": "code",
      "execution_count": 10,
      "id": "c7017020",
      "metadata": {
        "id": "c7017020"
      },
      "outputs": [],
      "source": [
        "def z_score(a,n):\n",
        "    x = sum(a) / n  #calculating mean\n",
        "    diff = [(val - x)**2 for val in a]\n",
        "    std = math.sqrt(sum(diff) / (n-1)) #calculating standard deviation\n",
        "    score = [(val - x) / std for val in a]\n",
        "    return score"
      ]
    },
    {
      "cell_type": "markdown",
      "id": "df510637",
      "metadata": {
        "id": "df510637"
      },
      "source": [
        "Calculating z-score using z_score function"
      ]
    },
    {
      "cell_type": "code",
      "execution_count": 11,
      "id": "6ec878b8",
      "metadata": {
        "id": "6ec878b8",
        "outputId": "b9eb887a-b683-43a8-dc57-4e3dda8ba157",
        "colab": {
          "base_uri": "https://localhost:8080/"
        }
      },
      "outputs": [
        {
          "output_type": "stream",
          "name": "stdout",
          "text": [
            "[-0.7675225788801976, 1.918806447200494, -0.3837612894400988, -0.7675225788801976, -0.8954430086935639, -0.6396021490668313, -0.5116817192534651, 0.12792042981336627, 1.5350451577603952, 0.3837612894400988]\n"
          ]
        }
      ],
      "source": [
        "result_1 = z_score(arr1, len(arr1))\n",
        "print(result_1)"
      ]
    },
    {
      "cell_type": "markdown",
      "id": "daf56bab",
      "metadata": {
        "id": "daf56bab"
      },
      "source": [
        "##**Decimal normalization**"
      ]
    },
    {
      "cell_type": "markdown",
      "source": [
        "Function for decimal normalization"
      ],
      "metadata": {
        "id": "kPK9A8TaMz8E"
      },
      "id": "kPK9A8TaMz8E"
    },
    {
      "cell_type": "code",
      "execution_count": 17,
      "id": "56afb9ca",
      "metadata": {
        "id": "56afb9ca"
      },
      "outputs": [],
      "source": [
        "def DecimalNormalizer(a):\n",
        "    max_length = len(str(max(a)))\n",
        "    return [val/(10**max_length) for val in arr]"
      ]
    },
    {
      "cell_type": "markdown",
      "source": [
        "Initializing an araay"
      ],
      "metadata": {
        "id": "jG4CMQjVMvwi"
      },
      "id": "jG4CMQjVMvwi"
    },
    {
      "cell_type": "code",
      "source": [
        "arr = [125,145,665,136,261,5564, 12, 45450]\n",
        "print(arr)"
      ],
      "metadata": {
        "id": "WKALyHGWLfDf",
        "outputId": "d3238b1b-acbf-4864-eb69-7e1d761fba31",
        "colab": {
          "base_uri": "https://localhost:8080/"
        }
      },
      "id": "WKALyHGWLfDf",
      "execution_count": 18,
      "outputs": [
        {
          "output_type": "stream",
          "name": "stdout",
          "text": [
            "[125, 145, 665, 136, 261, 5564, 12, 45450]\n"
          ]
        }
      ]
    },
    {
      "cell_type": "markdown",
      "source": [
        "Decimal Normalization using DecimalNormalizer function"
      ],
      "metadata": {
        "id": "_eRHbXKcM9VK"
      },
      "id": "_eRHbXKcM9VK"
    },
    {
      "cell_type": "code",
      "source": [
        "result_2 = DecimalNormalizer(arr)\n",
        "print(result_2)"
      ],
      "metadata": {
        "id": "q8IR7ickMOky",
        "outputId": "599a10f9-3c05-4023-92c3-aac37c0ad9c3",
        "colab": {
          "base_uri": "https://localhost:8080/"
        }
      },
      "id": "q8IR7ickMOky",
      "execution_count": 19,
      "outputs": [
        {
          "output_type": "stream",
          "name": "stdout",
          "text": [
            "[0.00125, 0.00145, 0.00665, 0.00136, 0.00261, 0.05564, 0.00012, 0.4545]\n"
          ]
        }
      ]
    }
  ],
  "metadata": {
    "kernelspec": {
      "display_name": "Python 3 (ipykernel)",
      "language": "python",
      "name": "python3"
    },
    "language_info": {
      "codemirror_mode": {
        "name": "ipython",
        "version": 3
      },
      "file_extension": ".py",
      "mimetype": "text/x-python",
      "name": "python",
      "nbconvert_exporter": "python",
      "pygments_lexer": "ipython3",
      "version": "3.9.6"
    },
    "colab": {
      "name": "Normalization.ipynb",
      "provenance": [],
      "collapsed_sections": []
    }
  },
  "nbformat": 4,
  "nbformat_minor": 5
}